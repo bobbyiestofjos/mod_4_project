{
 "cells": [
  {
   "cell_type": "markdown",
   "metadata": {},
   "source": [
    "# Convolutional Neural Network"
   ]
  },
  {
   "cell_type": "markdown",
   "metadata": {},
   "source": [
    "## Import Libraries"
   ]
  },
  {
   "cell_type": "code",
   "execution_count": 1,
   "metadata": {
    "colab": {
     "base_uri": "https://localhost:8080/",
     "height": 34
    },
    "colab_type": "code",
    "id": "G96i9Pql73uM",
    "outputId": "916d9b1f-7d21-4fe1-bbeb-b24bd9f66766"
   },
   "outputs": [],
   "source": [
    "import os\n",
    "import matplotlib.pyplot as plt\n",
    "import numpy as np\n",
    "import tensorflow.keras\n",
    "import tensorflow\n",
    "from tensorflow.keras.callbacks import ModelCheckpoint\n",
    "from tensorflow.keras import models\n",
    "from tensorflow.keras import layers\n",
    "from sklearn.metrics import confusion_matrix, f1_score, classification_report\n",
    "from tensorflow.keras.models import load_model\n",
    "from tensorflow.keras.preprocessing.image import ImageDataGenerator, array_to_img, img_to_array, load_img"
   ]
  },
  {
   "cell_type": "markdown",
   "metadata": {
    "colab_type": "text",
    "id": "yqt9Rx1KDqGg"
   },
   "source": [
    "## Preprocess Images"
   ]
  },
  {
   "cell_type": "code",
   "execution_count": 2,
   "metadata": {
    "colab": {
     "base_uri": "https://localhost:8080/",
     "height": 34
    },
    "colab_type": "code",
    "id": "s8T5QO9573uv",
    "outputId": "a5d8296d-3980-4e80-b943-057200db4e25",
    "scrolled": true
   },
   "outputs": [
    {
     "name": "stdout",
     "output_type": "stream",
     "text": [
      "Found 624 images belonging to 2 classes.\n"
     ]
    }
   ],
   "source": [
    "# Reshape the data in the data/test directory\n",
    "data_te = ImageDataGenerator(rescale=1./255).flow_from_directory(\n",
    "    'data/test',\n",
    "    target_size=(224, 224),\n",
    "    shuffle=False,\n",
    "    class_mode='binary',\n",
    "    color_mode='grayscale',\n",
    "    seed=60120,\n",
    "    interpolation='nearest',\n",
    "    batch_size=624)"
   ]
  },
  {
   "cell_type": "code",
   "execution_count": 3,
   "metadata": {
    "colab": {
     "base_uri": "https://localhost:8080/",
     "height": 34
    },
    "colab_type": "code",
    "id": "0MgTcB1K388K",
    "outputId": "022b3799-eb29-45d2-f5c1-2ba597f4bad3"
   },
   "outputs": [
    {
     "name": "stdout",
     "output_type": "stream",
     "text": [
      "Found 5216 images belonging to 2 classes.\n"
     ]
    }
   ],
   "source": [
    "# Reshape the data in the data/train directory\n",
    "data_tr = ImageDataGenerator(rescale=1./255).flow_from_directory(\n",
    "    'data/train',\n",
    "    target_size=(224, 224),\n",
    "    shuffle=False,\n",
    "    class_mode='binary',\n",
    "    color_mode='grayscale',\n",
    "    seed=60120,\n",
    "    interpolation='nearest',\n",
    "    batch_size=624)"
   ]
  },
  {
   "cell_type": "code",
   "execution_count": 4,
   "metadata": {
    "colab": {},
    "colab_type": "code",
    "id": "cKWqCS0K73u1"
   },
   "outputs": [],
   "source": [
    "#split images and labels\n",
    "images_tr, labels_tr = next(data_tr)"
   ]
  },
  {
   "cell_type": "code",
   "execution_count": 6,
   "metadata": {
    "colab": {},
    "colab_type": "code",
    "id": "sH9Z4IF44Rht"
   },
   "outputs": [],
   "source": [
    "#split images and labels\n",
    "images_te, labels_te = next(data_te)"
   ]
  },
  {
   "cell_type": "code",
   "execution_count": 7,
   "metadata": {
    "colab": {},
    "colab_type": "code",
    "id": "_G9eBDm_4Uv_"
   },
   "outputs": [],
   "source": [
    "# combine the images\n",
    "images = np.concatenate((images_tr, images_te))"
   ]
  },
  {
   "cell_type": "code",
   "execution_count": 8,
   "metadata": {
    "colab": {},
    "colab_type": "code",
    "id": "qb_D17U_4eJ0"
   },
   "outputs": [],
   "source": [
    "# combine the labels\n",
    "labels = np.concatenate((labels_tr, labels_te))"
   ]
  },
  {
   "cell_type": "markdown",
   "metadata": {
    "colab_type": "text",
    "id": "czJtmSRk3cXh"
   },
   "source": [
    "## Split the data up for training/testing the model"
   ]
  },
  {
   "cell_type": "code",
   "execution_count": 9,
   "metadata": {
    "colab": {},
    "colab_type": "code",
    "id": "898G-tvC73wb"
   },
   "outputs": [],
   "source": [
    "from sklearn.model_selection import train_test_split\n",
    "X_model, X_test, y_model, y_test = train_test_split(images, labels, test_size=0.20, random_state=123)"
   ]
  },
  {
   "cell_type": "code",
   "execution_count": 10,
   "metadata": {
    "colab": {},
    "colab_type": "code",
    "id": "ryysKVws73wd"
   },
   "outputs": [],
   "source": [
    "X_train, X_val, y_train, y_val = train_test_split(X_model, y_model, test_size=0.20, random_state=123)"
   ]
  },
  {
   "cell_type": "code",
   "execution_count": 11,
   "metadata": {},
   "outputs": [
    {
     "data": {
      "text/plain": [
       "(224, 224, 1)"
      ]
     },
     "execution_count": 11,
     "metadata": {},
     "output_type": "execute_result"
    }
   ],
   "source": [
    "X_train[0].shape"
   ]
  },
  {
   "cell_type": "markdown",
   "metadata": {},
   "source": [
    "## Base CNN Model"
   ]
  },
  {
   "cell_type": "code",
   "execution_count": 12,
   "metadata": {
    "colab": {},
    "colab_type": "code",
    "id": "zw0LD8xe73wf"
   },
   "outputs": [],
   "source": [
    "# This creates a convolutional neural network with convolution, pooling, and output layers\n",
    "cnn = models.Sequential()\n",
    "cnn.add(layers.Conv2D(64, (3, 3),\n",
    "                      activation='relu',\n",
    "                      input_shape=X_train[0].shape,\n",
    "                      padding='SAME'))\n",
    "cnn.add(layers.MaxPooling2D((2, 2)))\n",
    "cnn.add(layers.Conv2D(32, (3, 3), activation='relu'))\n",
    "cnn.add(layers.MaxPooling2D((2, 2)))\n",
    "cnn.add(layers.Flatten())\n",
    "cnn.add(layers.Dense(32, activation='relu'))\n",
    "cnn.add(layers.Dense(1, activation='sigmoid'))\n",
    "cnn.compile(loss='binary_crossentropy',\n",
    "            optimizer=\"adam\",\n",
    "            metrics=['acc',tensorflow.keras.metrics.Recall()])"
   ]
  },
  {
   "cell_type": "code",
   "execution_count": 13,
   "metadata": {},
   "outputs": [
    {
     "name": "stdout",
     "output_type": "stream",
     "text": [
      "Model: \"sequential\"\n",
      "_________________________________________________________________\n",
      "Layer (type)                 Output Shape              Param #   \n",
      "=================================================================\n",
      "conv2d (Conv2D)              (None, 224, 224, 64)      640       \n",
      "_________________________________________________________________\n",
      "max_pooling2d (MaxPooling2D) (None, 112, 112, 64)      0         \n",
      "_________________________________________________________________\n",
      "conv2d_1 (Conv2D)            (None, 110, 110, 32)      18464     \n",
      "_________________________________________________________________\n",
      "max_pooling2d_1 (MaxPooling2 (None, 55, 55, 32)        0         \n",
      "_________________________________________________________________\n",
      "flatten (Flatten)            (None, 96800)             0         \n",
      "_________________________________________________________________\n",
      "dense (Dense)                (None, 32)                3097632   \n",
      "_________________________________________________________________\n",
      "dense_1 (Dense)              (None, 1)                 33        \n",
      "=================================================================\n",
      "Total params: 3,116,769\n",
      "Trainable params: 3,116,769\n",
      "Non-trainable params: 0\n",
      "_________________________________________________________________\n"
     ]
    }
   ],
   "source": [
    "cnn.summary()"
   ]
  },
  {
   "cell_type": "code",
   "execution_count": 14,
   "metadata": {
    "colab": {},
    "colab_type": "code",
    "id": "N0TyaG2cSn82"
   },
   "outputs": [
    {
     "name": "stdout",
     "output_type": "stream",
     "text": [
      "Train on 798 samples, validate on 200 samples\n",
      "Epoch 1/50\n",
      "798/798 [==============================] - 24s 30ms/sample - loss: 0.6078 - acc: 0.6917 - recall: 0.2192 - val_loss: 0.3433 - val_acc: 0.8050 - val_recall: 0.2778\n",
      "Epoch 2/50\n",
      "798/798 [==============================] - 22s 28ms/sample - loss: 0.2381 - acc: 0.9010 - recall: 0.8192 - val_loss: 0.1726 - val_acc: 0.9400 - val_recall: 0.7778\n",
      "Epoch 3/50\n",
      "798/798 [==============================] - 23s 29ms/sample - loss: 0.1484 - acc: 0.9436 - recall: 0.8923 - val_loss: 0.1391 - val_acc: 0.9450 - val_recall: 0.9259\n",
      "Epoch 4/50\n",
      "798/798 [==============================] - 22s 28ms/sample - loss: 0.1140 - acc: 0.9662 - recall: 0.9346 - val_loss: 0.1082 - val_acc: 0.9650 - val_recall: 0.8889\n",
      "Epoch 5/50\n",
      "798/798 [==============================] - 25s 32ms/sample - loss: 0.0793 - acc: 0.9712 - recall: 0.9500 - val_loss: 0.1214 - val_acc: 0.9600 - val_recall: 0.8519\n",
      "Epoch 6/50\n",
      "798/798 [==============================] - 22s 28ms/sample - loss: 0.0515 - acc: 0.9799 - recall: 0.9654 - val_loss: 0.1576 - val_acc: 0.9350 - val_recall: 0.9815\n",
      "Epoch 7/50\n",
      "798/798 [==============================] - 22s 28ms/sample - loss: 0.0326 - acc: 0.9900 - recall: 0.9808 - val_loss: 0.1009 - val_acc: 0.9700 - val_recall: 0.9815\n",
      "Epoch 8/50\n",
      "798/798 [==============================] - 22s 28ms/sample - loss: 0.0180 - acc: 0.9975 - recall: 0.9962 - val_loss: 0.1130 - val_acc: 0.9600 - val_recall: 0.8704\n",
      "Epoch 9/50\n",
      "798/798 [==============================] - 23s 28ms/sample - loss: 0.0415 - acc: 0.9862 - recall: 0.9731 - val_loss: 0.0915 - val_acc: 0.9750 - val_recall: 0.9444\n",
      "Epoch 10/50\n",
      "798/798 [==============================] - 22s 28ms/sample - loss: 0.0209 - acc: 0.9950 - recall: 0.9962 - val_loss: 0.0966 - val_acc: 0.9850 - val_recall: 0.9630\n",
      "Epoch 11/50\n",
      "798/798 [==============================] - 22s 28ms/sample - loss: 0.0129 - acc: 0.9975 - recall: 0.9962 - val_loss: 0.0941 - val_acc: 0.9850 - val_recall: 0.9630\n",
      "Epoch 12/50\n",
      "798/798 [==============================] - 23s 29ms/sample - loss: 0.0033 - acc: 1.0000 - recall: 1.0000 - val_loss: 0.1020 - val_acc: 0.9850 - val_recall: 0.9630\n",
      "Epoch 13/50\n",
      "798/798 [==============================] - 22s 28ms/sample - loss: 0.0023 - acc: 1.0000 - recall: 1.0000 - val_loss: 0.1047 - val_acc: 0.9850 - val_recall: 0.9630\n",
      "Epoch 14/50\n",
      "798/798 [==============================] - 22s 27ms/sample - loss: 0.0016 - acc: 1.0000 - recall: 1.0000 - val_loss: 0.1091 - val_acc: 0.9850 - val_recall: 0.9630\n"
     ]
    }
   ],
   "source": [
    "# Save the weights for each layer\n",
    "saving_weights = ModelCheckpoint('weights.{epoch:02d}-{val_loss:.2f}.hdf5')\n",
    "\n",
    "#\n",
    "reduce_lr = tensorflow.keras.callbacks.ReduceLROnPlateau(patience=5)\n",
    "\n",
    "#\n",
    "nan_problem = tensorflow.keras.callbacks.TerminateOnNaN()\n",
    "\n",
    "#\n",
    "early_stop = tensorflow.keras.callbacks.EarlyStopping(patience=5)\n",
    "\n",
    "#\n",
    "csv_logger = tensorflow.keras.callbacks.CSVLogger('training.log')\n",
    "\n",
    "#\n",
    "cnn_fit = cnn.fit(X_train, y_train, epochs=50, batch_size=32, validation_data=(X_val, y_val),\n",
    "               callbacks=[csv_logger, early_stop, nan_problem, reduce_lr, saving_weights])"
   ]
  },
  {
   "cell_type": "code",
   "execution_count": 15,
   "metadata": {},
   "outputs": [
    {
     "name": "stdout",
     "output_type": "stream",
     "text": [
      "WARNING:tensorflow:From /opt/anaconda3/envs/tf2-1/lib/python3.7/site-packages/tensorflow_core/python/ops/resource_variable_ops.py:1786: calling BaseResourceVariable.__init__ (from tensorflow.python.ops.resource_variable_ops) with constraint is deprecated and will be removed in a future version.\n",
      "Instructions for updating:\n",
      "If using Keras pass *_constraint arguments to layers.\n",
      "INFO:tensorflow:Assets written to: models/cnn_base/assets\n"
     ]
    }
   ],
   "source": [
    "cnn.save('models/cnn_base')"
   ]
  },
  {
   "cell_type": "code",
   "execution_count": 16,
   "metadata": {
    "colab": {
     "base_uri": "https://localhost:8080/",
     "height": 295
    },
    "colab_type": "code",
    "id": "fV2LHFpZ73wy",
    "outputId": "367181cc-eb10-4382-b7ff-c8b7a5673c88"
   },
   "outputs": [
    {
     "data": {
      "image/png": "[encoded data removed]",
      "text/plain": [
       "<Figure size 1080x288 with 2 Axes>"
      ]
     },
     "metadata": {
      "needs_background": "light"
     },
     "output_type": "display_data"
    }
   ],
   "source": [
    "hist_cnn = cnn_fit.history\n",
    "loss_values = hist_cnn['loss']\n",
    "val_loss_values = hist_cnn['val_loss']\n",
    "acc_values = hist_cnn['acc']\n",
    "val_acc_values = hist_cnn['val_acc']\n",
    "recall_values = hist_cnn['recall']\n",
    "val_recall_values = hist_cnn['val_recall']\n",
    "\n",
    "\n",
    "epochs = range(1, len(loss_values) + 1)\n",
    "\n",
    "plt.figure(figsize=(15, 4))\n",
    "plt.subplot(121)\n",
    "plt.plot(epochs, loss_values, 'g', label='Training loss')\n",
    "plt.plot(epochs, val_loss_values, 'r', label='Validation loss')\n",
    "\n",
    "plt.title('Training and Validation Loss')\n",
    "plt.xlabel('Epochs')\n",
    "plt.ylabel('Loss')\n",
    "plt.legend()\n",
    "\n",
    "plt.subplot(122)\n",
    "plt.plot(epochs, recall_values, 'g', label='Training Recall')\n",
    "plt.plot(epochs, val_recall_values, 'r', label='Validation Recall')\n",
    "plt.title('Training and Validation Recall')\n",
    "plt.xlabel('Epochs')\n",
    "plt.ylabel('Recall')\n",
    "plt.legend()\n",
    "plt.show()"
   ]
  },
  {
   "cell_type": "code",
   "execution_count": 17,
   "metadata": {
    "colab": {
     "base_uri": "https://localhost:8080/",
     "height": 68
    },
    "colab_type": "code",
    "id": "JAd1W7eg73w3",
    "outputId": "e62eb046-2f6f-4307-e511-aa2d599efcbe"
   },
   "outputs": [
    {
     "name": "stdout",
     "output_type": "stream",
     "text": [
      "798/798 [==============================] - 5s 6ms/sample - loss: 0.0014 - acc: 1.0000 - recall: 1.0000\n",
      "250/250 [==============================] - 2s 7ms/sample - loss: 0.1689 - acc: 0.9520 - recall: 0.9079\n",
      "200/200 [==============================] - 1s 6ms/sample - loss: 0.1091 - acc: 0.9850 - recall: 0.9630\n",
      "[0.0014380896140128037, 1.0, 1.0] [0.16885365152359008, 0.952, 0.90789473] [0.10910507932305336, 0.985, 0.962963]\n"
     ]
    }
   ],
   "source": [
    "results_train = cnn.evaluate(X_train, y_train)\n",
    "results_test = cnn.evaluate(X_test, y_test)\n",
    "results_val =  cnn.evaluate(X_val, y_val)\n",
    "\n",
    "print(results_train, results_test, results_val)"
   ]
  },
  {
   "cell_type": "markdown",
   "metadata": {},
   "source": [
    "## Model iteration 01"
   ]
  },
  {
   "cell_type": "markdown",
   "metadata": {},
   "source": [
    "This model adds an output layer."
   ]
  },
  {
   "cell_type": "code",
   "execution_count": 22,
   "metadata": {
    "colab": {},
    "colab_type": "code",
    "id": "zw0LD8xe73wf"
   },
   "outputs": [],
   "source": [
    "cnn = models.Sequential()\n",
    "cnn.add(layers.Conv2D(64, (3, 3),\n",
    "                      activation='relu',\n",
    "                      input_shape=X_train[0].shape,\n",
    "                      padding='SAME'))\n",
    "cnn.add(layers.MaxPooling2D((2, 2)))\n",
    "cnn.add(layers.Conv2D(32, (3, 3), activation='relu'))\n",
    "cnn.add(layers.MaxPooling2D((2, 2)))\n",
    "cnn.add(layers.Flatten())\n",
    "cnn.add(layers.Dense(32, activation='relu'))\n",
    "cnn.add(layers.Dense(16, activation='relu'))\n",
    "cnn.add(layers.Dense(1, activation='sigmoid'))\n",
    "cnn.compile(loss='binary_crossentropy',\n",
    "            optimizer=\"adam\",\n",
    "            metrics=['acc',tensorflow.keras.metrics.Recall()])"
   ]
  },
  {
   "cell_type": "code",
   "execution_count": 23,
   "metadata": {},
   "outputs": [
    {
     "name": "stdout",
     "output_type": "stream",
     "text": [
      "Model: \"sequential_3\"\n",
      "_________________________________________________________________\n",
      "Layer (type)                 Output Shape              Param #   \n",
      "=================================================================\n",
      "conv2d_4 (Conv2D)            (None, 224, 224, 64)      640       \n",
      "_________________________________________________________________\n",
      "max_pooling2d_4 (MaxPooling2 (None, 112, 112, 64)      0         \n",
      "_________________________________________________________________\n",
      "conv2d_5 (Conv2D)            (None, 110, 110, 32)      18464     \n",
      "_________________________________________________________________\n",
      "max_pooling2d_5 (MaxPooling2 (None, 55, 55, 32)        0         \n",
      "_________________________________________________________________\n",
      "flatten_2 (Flatten)          (None, 96800)             0         \n",
      "_________________________________________________________________\n",
      "dense_5 (Dense)              (None, 32)                3097632   \n",
      "_________________________________________________________________\n",
      "dense_6 (Dense)              (None, 16)                528       \n",
      "_________________________________________________________________\n",
      "dense_7 (Dense)              (None, 1)                 17        \n",
      "=================================================================\n",
      "Total params: 3,117,281\n",
      "Trainable params: 3,117,281\n",
      "Non-trainable params: 0\n",
      "_________________________________________________________________\n"
     ]
    }
   ],
   "source": [
    "cnn.summary()"
   ]
  },
  {
   "cell_type": "code",
   "execution_count": 28,
   "metadata": {
    "colab": {},
    "colab_type": "code",
    "id": "N0TyaG2cSn82"
   },
   "outputs": [
    {
     "name": "stdout",
     "output_type": "stream",
     "text": [
      "Train on 798 samples, validate on 200 samples\n",
      "Epoch 1/50\n",
      "798/798 [==============================] - 25s 31ms/sample - loss: 0.3449 - acc: 0.8521 - recall_2: 0.6692 - val_loss: 0.1737 - val_acc: 0.9450 - val_recall_2: 0.8333\n",
      "Epoch 2/50\n",
      "798/798 [==============================] - 25s 31ms/sample - loss: 0.2418 - acc: 0.8985 - recall_2: 0.8192 - val_loss: 0.1494 - val_acc: 0.9650 - val_recall_2: 0.8704\n",
      "Epoch 3/50\n",
      "798/798 [==============================] - 25s 31ms/sample - loss: 0.1646 - acc: 0.9311 - recall_2: 0.8769 - val_loss: 0.1392 - val_acc: 0.9600 - val_recall_2: 0.8519\n",
      "Epoch 4/50\n",
      "798/798 [==============================] - 24s 31ms/sample - loss: 0.1388 - acc: 0.9411 - recall_2: 0.8923 - val_loss: 0.1244 - val_acc: 0.9700 - val_recall_2: 0.8889\n",
      "Epoch 5/50\n",
      "798/798 [==============================] - 25s 31ms/sample - loss: 0.1202 - acc: 0.9586 - recall_2: 0.9462 - val_loss: 0.1479 - val_acc: 0.9350 - val_recall_2: 0.9444\n",
      "Epoch 6/50\n",
      "798/798 [==============================] - 25s 31ms/sample - loss: 0.1174 - acc: 0.9511 - recall_2: 0.9038 - val_loss: 0.1308 - val_acc: 0.9500 - val_recall_2: 0.9444\n",
      "Epoch 7/50\n",
      "798/798 [==============================] - 24s 30ms/sample - loss: 0.0794 - acc: 0.9774 - recall_2: 0.9615 - val_loss: 0.1214 - val_acc: 0.9700 - val_recall_2: 0.8889\n",
      "Epoch 8/50\n",
      "798/798 [==============================] - 25s 31ms/sample - loss: 0.0696 - acc: 0.9749 - recall_2: 0.9577 - val_loss: 0.1519 - val_acc: 0.9400 - val_recall_2: 0.9444\n",
      "Epoch 9/50\n",
      "798/798 [==============================] - 24s 31ms/sample - loss: 0.0740 - acc: 0.9662 - recall_2: 0.9462 - val_loss: 0.1495 - val_acc: 0.9450 - val_recall_2: 0.9630\n",
      "Epoch 10/50\n",
      "798/798 [==============================] - 25s 31ms/sample - loss: 0.0389 - acc: 0.9862 - recall_2: 0.9808 - val_loss: 0.1085 - val_acc: 0.9750 - val_recall_2: 0.9259\n",
      "Epoch 11/50\n",
      "798/798 [==============================] - 25s 31ms/sample - loss: 0.0366 - acc: 0.9875 - recall_2: 0.9769 - val_loss: 0.1157 - val_acc: 0.9650 - val_recall_2: 0.9074\n",
      "Epoch 12/50\n",
      "798/798 [==============================] - 25s 31ms/sample - loss: 0.0296 - acc: 0.9950 - recall_2: 0.9885 - val_loss: 0.1327 - val_acc: 0.9500 - val_recall_2: 0.9444\n",
      "Epoch 13/50\n",
      "798/798 [==============================] - 27s 34ms/sample - loss: 0.0124 - acc: 0.9962 - recall_2: 0.9923 - val_loss: 0.1183 - val_acc: 0.9650 - val_recall_2: 0.9630\n",
      "Epoch 14/50\n",
      "798/798 [==============================] - 26s 32ms/sample - loss: 0.0080 - acc: 0.9987 - recall_2: 1.0000 - val_loss: 0.1203 - val_acc: 0.9700 - val_recall_2: 0.9259\n",
      "Epoch 15/50\n",
      "798/798 [==============================] - 25s 31ms/sample - loss: 0.0047 - acc: 1.0000 - recall_2: 1.0000 - val_loss: 0.1147 - val_acc: 0.9750 - val_recall_2: 0.9444\n"
     ]
    }
   ],
   "source": [
    "# Save the weights for each layer\n",
    "saving_weights = ModelCheckpoint('weights.{epoch:02d}-{val_loss:.2f}.hdf5')\n",
    "\n",
    "#\n",
    "reduce_lr = tensorflow.keras.callbacks.ReduceLROnPlateau(patience=5)\n",
    "\n",
    "#\n",
    "nan_problem = tensorflow.keras.callbacks.TerminateOnNaN()\n",
    "\n",
    "#\n",
    "early_stop = tensorflow.keras.callbacks.EarlyStopping(patience=5)\n",
    "\n",
    "#\n",
    "csv_logger = tensorflow.keras.callbacks.CSVLogger('training.log')\n",
    "\n",
    "#\n",
    "cnn_fit = cnn.fit(X_train, y_train, epochs=50, batch_size=32, validation_data=(X_val, y_val),\n",
    "               callbacks=[csv_logger, early_stop, nan_problem, reduce_lr, saving_weights])"
   ]
  },
  {
   "cell_type": "code",
   "execution_count": 29,
   "metadata": {},
   "outputs": [
    {
     "name": "stdout",
     "output_type": "stream",
     "text": [
      "INFO:tensorflow:Assets written to: models/cnn_01/assets\n"
     ]
    }
   ],
   "source": [
    "cnn.save('models/cnn_01')"
   ]
  },
  {
   "cell_type": "code",
   "execution_count": 32,
   "metadata": {
    "colab": {
     "base_uri": "https://localhost:8080/",
     "height": 295
    },
    "colab_type": "code",
    "id": "fV2LHFpZ73wy",
    "outputId": "367181cc-eb10-4382-b7ff-c8b7a5673c88"
   },
   "outputs": [
    {
     "data": {
      "image/png": "[encoded data removed]",
      "text/plain": [
       "<Figure size 1080x288 with 2 Axes>"
      ]
     },
     "metadata": {
      "needs_background": "light"
     },
     "output_type": "display_data"
    }
   ],
   "source": [
    "hist_cnn = cnn_fit.history\n",
    "loss_values = hist_cnn['loss']\n",
    "val_loss_values = hist_cnn['val_loss']\n",
    "acc_values = hist_cnn['acc']\n",
    "val_acc_values = hist_cnn['val_acc']\n",
    "recall_values = hist_cnn['recall_2']\n",
    "val_recall_values = hist_cnn['val_recall_2']\n",
    "\n",
    "\n",
    "epochs = range(1, len(loss_values) + 1)\n",
    "\n",
    "plt.figure(figsize=(15, 4))\n",
    "plt.subplot(121)\n",
    "plt.plot(epochs, loss_values, 'g', label='Training loss')\n",
    "plt.plot(epochs, val_loss_values, 'r', label='Validation loss')\n",
    "\n",
    "plt.title('Training and Validation Loss')\n",
    "plt.xlabel('Epochs')\n",
    "plt.ylabel('Loss')\n",
    "plt.legend()\n",
    "\n",
    "plt.subplot(122)\n",
    "plt.plot(epochs, recall_values, 'g', label='Training Recall')\n",
    "plt.plot(epochs, val_recall_values, 'r', label='Validation Recall')\n",
    "plt.title('Training and Validation Recall')\n",
    "plt.xlabel('Epochs')\n",
    "plt.ylabel('Recall')\n",
    "plt.legend()\n",
    "plt.show()"
   ]
  },
  {
   "cell_type": "code",
   "execution_count": 33,
   "metadata": {
    "colab": {
     "base_uri": "https://localhost:8080/",
     "height": 68
    },
    "colab_type": "code",
    "id": "JAd1W7eg73w3",
    "outputId": "e62eb046-2f6f-4307-e511-aa2d599efcbe"
   },
   "outputs": [
    {
     "name": "stdout",
     "output_type": "stream",
     "text": [
      "798/798 [==============================] - 6s 8ms/sample - loss: 0.0030 - acc: 1.0000 - recall_2: 1.0000\n",
      "250/250 [==============================] - 2s 8ms/sample - loss: 0.1705 - acc: 0.9520 - recall_2: 0.9211\n",
      "200/200 [==============================] - 2s 8ms/sample - loss: 0.1147 - acc: 0.9750 - recall_2: 0.9444\n",
      "[0.0030057059856537813, 1.0, 1.0] [0.17047352296113968, 0.952, 0.92105263] [0.1147029703296721, 0.975, 0.9444444]\n"
     ]
    }
   ],
   "source": [
    "results_train = cnn.evaluate(X_train, y_train)\n",
    "results_test = cnn.evaluate(X_test, y_test)\n",
    "results_val =  cnn.evaluate(X_val, y_val)\n",
    "\n",
    "print(results_train, results_test, results_val)"
   ]
  },
  {
   "cell_type": "markdown",
   "metadata": {},
   "source": [
    "## Model iteration 02"
   ]
  },
  {
   "cell_type": "markdown",
   "metadata": {},
   "source": [
    "This model adds a dropout layer at 20% after the first convolution layer."
   ]
  },
  {
   "cell_type": "code",
   "execution_count": 34,
   "metadata": {},
   "outputs": [],
   "source": [
    "cnn = models.Sequential()\n",
    "cnn.add(layers.Conv2D(64, (3, 3),\n",
    "                      activation='relu',\n",
    "                      input_shape=X_train[0].shape,\n",
    "                      padding='SAME'))\n",
    "cnn.add(layers.Dropout(0.2))\n",
    "cnn.add(layers.MaxPooling2D((2, 2)))\n",
    "cnn.add(layers.Conv2D(32, (3, 3), activation='relu'))\n",
    "cnn.add(layers.MaxPooling2D((2, 2)))\n",
    "cnn.add(layers.Flatten())\n",
    "cnn.add(layers.Dense(32, activation='relu'))\n",
    "cnn.add(layers.Dense(16, activation='relu'))\n",
    "cnn.add(layers.Dense(1, activation='sigmoid'))\n",
    "cnn.compile(loss='binary_crossentropy',\n",
    "            optimizer=\"adam\",\n",
    "            metrics=['acc',tensorflow.keras.metrics.Recall()])"
   ]
  },
  {
   "cell_type": "code",
   "execution_count": 35,
   "metadata": {},
   "outputs": [
    {
     "name": "stdout",
     "output_type": "stream",
     "text": [
      "Model: \"sequential_5\"\n",
      "_________________________________________________________________\n",
      "Layer (type)                 Output Shape              Param #   \n",
      "=================================================================\n",
      "conv2d_8 (Conv2D)            (None, 224, 224, 64)      640       \n",
      "_________________________________________________________________\n",
      "dropout_1 (Dropout)          (None, 224, 224, 64)      0         \n",
      "_________________________________________________________________\n",
      "max_pooling2d_8 (MaxPooling2 (None, 112, 112, 64)      0         \n",
      "_________________________________________________________________\n",
      "conv2d_9 (Conv2D)            (None, 110, 110, 32)      18464     \n",
      "_________________________________________________________________\n",
      "max_pooling2d_9 (MaxPooling2 (None, 55, 55, 32)        0         \n",
      "_________________________________________________________________\n",
      "flatten_4 (Flatten)          (None, 96800)             0         \n",
      "_________________________________________________________________\n",
      "dense_11 (Dense)             (None, 32)                3097632   \n",
      "_________________________________________________________________\n",
      "dense_12 (Dense)             (None, 16)                528       \n",
      "_________________________________________________________________\n",
      "dense_13 (Dense)             (None, 1)                 17        \n",
      "=================================================================\n",
      "Total params: 3,117,281\n",
      "Trainable params: 3,117,281\n",
      "Non-trainable params: 0\n",
      "_________________________________________________________________\n"
     ]
    }
   ],
   "source": [
    "cnn.summary()"
   ]
  },
  {
   "cell_type": "code",
   "execution_count": 36,
   "metadata": {
    "colab": {},
    "colab_type": "code",
    "id": "N0TyaG2cSn82"
   },
   "outputs": [
    {
     "name": "stdout",
     "output_type": "stream",
     "text": [
      "Train on 798 samples, validate on 200 samples\n",
      "Epoch 1/50\n",
      "798/798 [==============================] - 40s 50ms/sample - loss: 0.6020 - acc: 0.6604 - recall_3: 0.2731 - val_loss: 0.3402 - val_acc: 0.8550 - val_recall_3: 0.4630\n",
      "Epoch 2/50\n",
      "798/798 [==============================] - 52s 65ms/sample - loss: 0.3000 - acc: 0.8747 - recall_3: 0.7538 - val_loss: 0.1719 - val_acc: 0.9450 - val_recall_3: 0.8333\n",
      "Epoch 3/50\n",
      "798/798 [==============================] - 42s 53ms/sample - loss: 0.1461 - acc: 0.9474 - recall_3: 0.9038 - val_loss: 0.1176 - val_acc: 0.9550 - val_recall_3: 0.9259\n",
      "Epoch 4/50\n",
      "798/798 [==============================] - 40s 50ms/sample - loss: 0.1352 - acc: 0.9486 - recall_3: 0.9077 - val_loss: 0.1979 - val_acc: 0.9050 - val_recall_3: 0.9630\n",
      "Epoch 5/50\n",
      "798/798 [==============================] - 42s 53ms/sample - loss: 0.0890 - acc: 0.9687 - recall_3: 0.9538 - val_loss: 0.0973 - val_acc: 0.9700 - val_recall_3: 0.9259\n",
      "Epoch 6/50\n",
      "798/798 [==============================] - 39s 48ms/sample - loss: 0.0693 - acc: 0.9724 - recall_3: 0.9615 - val_loss: 0.0919 - val_acc: 0.9600 - val_recall_3: 0.9259\n",
      "Epoch 7/50\n",
      "798/798 [==============================] - 37s 47ms/sample - loss: 0.0414 - acc: 0.9887 - recall_3: 0.9808 - val_loss: 0.0867 - val_acc: 0.9750 - val_recall_3: 0.9259\n",
      "Epoch 8/50\n",
      "798/798 [==============================] - 36s 46ms/sample - loss: 0.0295 - acc: 0.9912 - recall_3: 0.9885 - val_loss: 0.0892 - val_acc: 0.9700 - val_recall_3: 0.9444\n",
      "Epoch 9/50\n",
      "798/798 [==============================] - 37s 46ms/sample - loss: 0.0221 - acc: 0.9950 - recall_3: 0.9885 - val_loss: 0.1204 - val_acc: 0.9550 - val_recall_3: 0.9815\n",
      "Epoch 10/50\n",
      "798/798 [==============================] - 37s 46ms/sample - loss: 0.0111 - acc: 1.0000 - recall_3: 1.0000 - val_loss: 0.0825 - val_acc: 0.9750 - val_recall_3: 0.9444\n",
      "Epoch 11/50\n",
      "798/798 [==============================] - 36s 45ms/sample - loss: 0.0105 - acc: 0.9987 - recall_3: 0.9962 - val_loss: 0.0946 - val_acc: 0.9700 - val_recall_3: 0.9074\n",
      "Epoch 12/50\n",
      "798/798 [==============================] - 36s 45ms/sample - loss: 0.0074 - acc: 1.0000 - recall_3: 1.0000 - val_loss: 0.1392 - val_acc: 0.9600 - val_recall_3: 0.9815\n",
      "Epoch 13/50\n",
      "798/798 [==============================] - 38s 47ms/sample - loss: 0.0056 - acc: 1.0000 - recall_3: 1.0000 - val_loss: 0.0890 - val_acc: 0.9850 - val_recall_3: 0.9815\n",
      "Epoch 14/50\n",
      "798/798 [==============================] - 37s 46ms/sample - loss: 0.0018 - acc: 1.0000 - recall_3: 1.0000 - val_loss: 0.0906 - val_acc: 0.9850 - val_recall_3: 0.9815\n",
      "Epoch 15/50\n",
      "798/798 [==============================] - 37s 46ms/sample - loss: 0.0011 - acc: 1.0000 - recall_3: 1.0000 - val_loss: 0.0913 - val_acc: 0.9850 - val_recall_3: 0.9630\n"
     ]
    }
   ],
   "source": [
    "# Save the weights for each layer\n",
    "saving_weights = ModelCheckpoint('weights.{epoch:02d}-{val_loss:.2f}.hdf5')\n",
    "\n",
    "#\n",
    "reduce_lr = tensorflow.keras.callbacks.ReduceLROnPlateau(patience=5)\n",
    "\n",
    "#\n",
    "nan_problem = tensorflow.keras.callbacks.TerminateOnNaN()\n",
    "\n",
    "#\n",
    "early_stop = tensorflow.keras.callbacks.EarlyStopping(patience=5)\n",
    "\n",
    "#\n",
    "csv_logger = tensorflow.keras.callbacks.CSVLogger('training.log')\n",
    "\n",
    "#\n",
    "cnn_fit = cnn.fit(X_train, y_train, epochs=50, batch_size=32, validation_data=(X_val, y_val),\n",
    "               callbacks=[csv_logger, early_stop, nan_problem, reduce_lr, saving_weights])"
   ]
  },
  {
   "cell_type": "code",
   "execution_count": 37,
   "metadata": {},
   "outputs": [
    {
     "name": "stdout",
     "output_type": "stream",
     "text": [
      "INFO:tensorflow:Assets written to: models/cnn_02/assets\n"
     ]
    }
   ],
   "source": [
    "cnn.save('models/cnn_02')"
   ]
  },
  {
   "cell_type": "code",
   "execution_count": 39,
   "metadata": {
    "colab": {
     "base_uri": "https://localhost:8080/",
     "height": 295
    },
    "colab_type": "code",
    "id": "fV2LHFpZ73wy",
    "outputId": "367181cc-eb10-4382-b7ff-c8b7a5673c88"
   },
   "outputs": [
    {
     "data": {
      "image/png": "[encoded data removed]",
      "text/plain": [
       "<Figure size 1080x288 with 2 Axes>"
      ]
     },
     "metadata": {
      "needs_background": "light"
     },
     "output_type": "display_data"
    }
   ],
   "source": [
    "hist_cnn = cnn_fit.history\n",
    "loss_values = hist_cnn['loss']\n",
    "val_loss_values = hist_cnn['val_loss']\n",
    "acc_values = hist_cnn['acc']\n",
    "val_acc_values = hist_cnn['val_acc']\n",
    "recall_values = hist_cnn['recall_3']\n",
    "val_recall_values = hist_cnn['val_recall_3']\n",
    "\n",
    "\n",
    "epochs = range(1, len(loss_values) + 1)\n",
    "\n",
    "plt.figure(figsize=(15, 4))\n",
    "plt.subplot(121)\n",
    "plt.plot(epochs, loss_values, 'g', label='Training loss')\n",
    "plt.plot(epochs, val_loss_values, 'r', label='Validation loss')\n",
    "\n",
    "plt.title('Training and Validation Loss')\n",
    "plt.xlabel('Epochs')\n",
    "plt.ylabel('Loss')\n",
    "plt.legend()\n",
    "\n",
    "plt.subplot(122)\n",
    "plt.plot(epochs, recall_values, 'g', label='Training Recall')\n",
    "plt.plot(epochs, val_recall_values, 'r', label='Validation Recall')\n",
    "plt.title('Training and Validation Recall')\n",
    "plt.xlabel('Epochs')\n",
    "plt.ylabel('Recall')\n",
    "plt.legend()\n",
    "plt.show()"
   ]
  },
  {
   "cell_type": "code",
   "execution_count": 40,
   "metadata": {
    "colab": {
     "base_uri": "https://localhost:8080/",
     "height": 68
    },
    "colab_type": "code",
    "id": "JAd1W7eg73w3",
    "outputId": "e62eb046-2f6f-4307-e511-aa2d599efcbe"
   },
   "outputs": [
    {
     "name": "stdout",
     "output_type": "stream",
     "text": [
      "798/798 [==============================] - 6s 7ms/sample - loss: 0.0017 - acc: 1.0000 - recall_3: 1.0000\n",
      "250/250 [==============================] - 2s 8ms/sample - loss: 0.1614 - acc: 0.9560 - recall_3: 0.9342\n",
      "200/200 [==============================] - 1s 7ms/sample - loss: 0.0913 - acc: 0.9850 - recall_3: 0.9630\n",
      "[0.0017366126619680856, 1.0, 1.0] [0.16141305327415467, 0.956, 0.93421054] [0.09134157247841358, 0.985, 0.962963]\n"
     ]
    }
   ],
   "source": [
    "results_train = cnn.evaluate(X_train, y_train)\n",
    "results_test = cnn.evaluate(X_test, y_test)\n",
    "results_val =  cnn.evaluate(X_val, y_val)\n",
    "\n",
    "print(results_train, results_test, results_val)"
   ]
  },
  {
   "cell_type": "markdown",
   "metadata": {},
   "source": [
    "## Model iteration 03"
   ]
  },
  {
   "cell_type": "markdown",
   "metadata": {},
   "source": [
    "This model moves the dropout layer at 20% to just before the first pooling layer."
   ]
  },
  {
   "cell_type": "code",
   "execution_count": 41,
   "metadata": {},
   "outputs": [],
   "source": [
    "cnn = models.Sequential()\n",
    "cnn.add(layers.Conv2D(64, (3, 3),\n",
    "                      activation='relu',\n",
    "                      input_shape=X_train[0].shape,\n",
    "                      padding='SAME'))\n",
    "cnn.add(layers.MaxPooling2D((2, 2)))\n",
    "cnn.add(layers.Dropout(0.2))\n",
    "cnn.add(layers.Conv2D(32, (3, 3), activation='relu'))\n",
    "cnn.add(layers.MaxPooling2D((2, 2)))\n",
    "cnn.add(layers.Flatten())\n",
    "cnn.add(layers.Dense(32, activation='relu'))\n",
    "cnn.add(layers.Dense(16, activation='relu'))\n",
    "cnn.add(layers.Dense(1, activation='sigmoid'))\n",
    "cnn.compile(loss='binary_crossentropy',\n",
    "            optimizer=\"adam\",\n",
    "            metrics=['acc',tensorflow.keras.metrics.Recall()])"
   ]
  },
  {
   "cell_type": "code",
   "execution_count": 42,
   "metadata": {},
   "outputs": [
    {
     "name": "stdout",
     "output_type": "stream",
     "text": [
      "Model: \"sequential_6\"\n",
      "_________________________________________________________________\n",
      "Layer (type)                 Output Shape              Param #   \n",
      "=================================================================\n",
      "conv2d_10 (Conv2D)           (None, 224, 224, 64)      640       \n",
      "_________________________________________________________________\n",
      "max_pooling2d_10 (MaxPooling (None, 112, 112, 64)      0         \n",
      "_________________________________________________________________\n",
      "dropout_2 (Dropout)          (None, 112, 112, 64)      0         \n",
      "_________________________________________________________________\n",
      "conv2d_11 (Conv2D)           (None, 110, 110, 32)      18464     \n",
      "_________________________________________________________________\n",
      "max_pooling2d_11 (MaxPooling (None, 55, 55, 32)        0         \n",
      "_________________________________________________________________\n",
      "flatten_5 (Flatten)          (None, 96800)             0         \n",
      "_________________________________________________________________\n",
      "dense_14 (Dense)             (None, 32)                3097632   \n",
      "_________________________________________________________________\n",
      "dense_15 (Dense)             (None, 16)                528       \n",
      "_________________________________________________________________\n",
      "dense_16 (Dense)             (None, 1)                 17        \n",
      "=================================================================\n",
      "Total params: 3,117,281\n",
      "Trainable params: 3,117,281\n",
      "Non-trainable params: 0\n",
      "_________________________________________________________________\n"
     ]
    }
   ],
   "source": [
    "cnn.summary()"
   ]
  },
  {
   "cell_type": "code",
   "execution_count": 43,
   "metadata": {
    "colab": {},
    "colab_type": "code",
    "id": "N0TyaG2cSn82"
   },
   "outputs": [
    {
     "name": "stdout",
     "output_type": "stream",
     "text": [
      "Train on 798 samples, validate on 200 samples\n",
      "Epoch 1/50\n",
      "798/798 [==============================] - 28s 35ms/sample - loss: 0.6943 - acc: 0.6617 - recall_4: 0.0462 - val_loss: 0.6292 - val_acc: 0.7300 - val_recall_4: 0.0000e+00\n",
      "Epoch 2/50\n",
      "798/798 [==============================] - 28s 35ms/sample - loss: 0.5011 - acc: 0.7368 - recall_4: 0.3192 - val_loss: 0.3872 - val_acc: 0.9350 - val_recall_4: 0.8519\n",
      "Epoch 3/50\n",
      "798/798 [==============================] - 27s 34ms/sample - loss: 0.2675 - acc: 0.8885 - recall_4: 0.7538 - val_loss: 0.2607 - val_acc: 0.8950 - val_recall_4: 0.9444\n",
      "Epoch 4/50\n",
      "798/798 [==============================] - 27s 33ms/sample - loss: 0.1759 - acc: 0.9348 - recall_4: 0.8692 - val_loss: 0.1359 - val_acc: 0.9600 - val_recall_4: 0.9074\n",
      "Epoch 5/50\n",
      "798/798 [==============================] - 27s 34ms/sample - loss: 0.1167 - acc: 0.9599 - recall_4: 0.9308 - val_loss: 0.1573 - val_acc: 0.9300 - val_recall_4: 0.9444\n",
      "Epoch 6/50\n",
      "798/798 [==============================] - 27s 34ms/sample - loss: 0.0924 - acc: 0.9612 - recall_4: 0.9346 - val_loss: 0.1046 - val_acc: 0.9800 - val_recall_4: 0.9259\n",
      "Epoch 7/50\n",
      "798/798 [==============================] - 27s 33ms/sample - loss: 0.1052 - acc: 0.9599 - recall_4: 0.9308 - val_loss: 0.1133 - val_acc: 0.9600 - val_recall_4: 0.9444\n",
      "Epoch 8/50\n",
      "798/798 [==============================] - 27s 34ms/sample - loss: 0.0797 - acc: 0.9762 - recall_4: 0.9577 - val_loss: 0.1078 - val_acc: 0.9650 - val_recall_4: 0.8704\n",
      "Epoch 9/50\n",
      "798/798 [==============================] - 27s 33ms/sample - loss: 0.0796 - acc: 0.9662 - recall_4: 0.9423 - val_loss: 0.0927 - val_acc: 0.9850 - val_recall_4: 0.9444\n",
      "Epoch 10/50\n",
      "798/798 [==============================] - 27s 33ms/sample - loss: 0.0807 - acc: 0.9699 - recall_4: 0.9500 - val_loss: 0.1442 - val_acc: 0.9450 - val_recall_4: 0.9630\n",
      "Epoch 11/50\n",
      "798/798 [==============================] - 28s 35ms/sample - loss: 0.0698 - acc: 0.9774 - recall_4: 0.9538 - val_loss: 0.1431 - val_acc: 0.9400 - val_recall_4: 0.9630\n",
      "Epoch 12/50\n",
      "798/798 [==============================] - 27s 34ms/sample - loss: 0.0346 - acc: 0.9912 - recall_4: 0.9846 - val_loss: 0.1033 - val_acc: 0.9600 - val_recall_4: 0.9630\n",
      "Epoch 13/50\n",
      "798/798 [==============================] - 27s 34ms/sample - loss: 0.0316 - acc: 0.9862 - recall_4: 0.9769 - val_loss: 0.0995 - val_acc: 0.9700 - val_recall_4: 0.8889\n",
      "Epoch 14/50\n",
      "798/798 [==============================] - 27s 33ms/sample - loss: 0.0215 - acc: 0.9937 - recall_4: 0.9885 - val_loss: 0.1056 - val_acc: 0.9650 - val_recall_4: 0.9630\n"
     ]
    }
   ],
   "source": [
    "# Save the weights for each layer\n",
    "saving_weights = ModelCheckpoint('weights.{epoch:02d}-{val_loss:.2f}.hdf5')\n",
    "\n",
    "#\n",
    "reduce_lr = tensorflow.keras.callbacks.ReduceLROnPlateau(patience=5)\n",
    "\n",
    "#\n",
    "nan_problem = tensorflow.keras.callbacks.TerminateOnNaN()\n",
    "\n",
    "#\n",
    "early_stop = tensorflow.keras.callbacks.EarlyStopping(patience=5)\n",
    "\n",
    "#\n",
    "csv_logger = tensorflow.keras.callbacks.CSVLogger('training.log')\n",
    "\n",
    "#\n",
    "cnn_fit = cnn.fit(X_train, y_train, epochs=50, batch_size=32, validation_data=(X_val, y_val),\n",
    "               callbacks=[csv_logger, early_stop, nan_problem, reduce_lr, saving_weights])"
   ]
  },
  {
   "cell_type": "code",
   "execution_count": 44,
   "metadata": {},
   "outputs": [
    {
     "name": "stdout",
     "output_type": "stream",
     "text": [
      "INFO:tensorflow:Assets written to: models/cnn_03/assets\n"
     ]
    }
   ],
   "source": [
    "cnn.save('models/cnn_03')"
   ]
  },
  {
   "cell_type": "code",
   "execution_count": 45,
   "metadata": {
    "colab": {
     "base_uri": "https://localhost:8080/",
     "height": 295
    },
    "colab_type": "code",
    "id": "fV2LHFpZ73wy",
    "outputId": "367181cc-eb10-4382-b7ff-c8b7a5673c88"
   },
   "outputs": [
    {
     "data": {
      "image/png": "[encoded data removed]",
      "text/plain": [
       "<Figure size 1080x288 with 2 Axes>"
      ]
     },
     "metadata": {
      "needs_background": "light"
     },
     "output_type": "display_data"
    }
   ],
   "source": [
    "hist_cnn = cnn_fit.history\n",
    "loss_values = hist_cnn['loss']\n",
    "val_loss_values = hist_cnn['val_loss']\n",
    "acc_values = hist_cnn['acc']\n",
    "val_acc_values = hist_cnn['val_acc']\n",
    "recall_values = hist_cnn['recall_4']\n",
    "val_recall_values = hist_cnn['val_recall_4']\n",
    "\n",
    "\n",
    "epochs = range(1, len(loss_values) + 1)\n",
    "\n",
    "plt.figure(figsize=(15, 4))\n",
    "plt.subplot(121)\n",
    "plt.plot(epochs, loss_values, 'g', label='Training loss')\n",
    "plt.plot(epochs, val_loss_values, 'r', label='Validation loss')\n",
    "\n",
    "plt.title('Training and Validation Loss')\n",
    "plt.xlabel('Epochs')\n",
    "plt.ylabel('Loss')\n",
    "plt.legend()\n",
    "\n",
    "plt.subplot(122)\n",
    "plt.plot(epochs, recall_values, 'g', label='Training Recall')\n",
    "plt.plot(epochs, val_recall_values, 'r', label='Validation Recall')\n",
    "plt.title('Training and Validation Recall')\n",
    "plt.xlabel('Epochs')\n",
    "plt.ylabel('Recall')\n",
    "plt.legend()\n",
    "plt.show()"
   ]
  },
  {
   "cell_type": "code",
   "execution_count": 46,
   "metadata": {
    "colab": {
     "base_uri": "https://localhost:8080/",
     "height": 68
    },
    "colab_type": "code",
    "id": "JAd1W7eg73w3",
    "outputId": "e62eb046-2f6f-4307-e511-aa2d599efcbe"
   },
   "outputs": [
    {
     "name": "stdout",
     "output_type": "stream",
     "text": [
      "798/798 [==============================] - 6s 7ms/sample - loss: 0.0126 - acc: 0.9987 - recall_4: 1.0000\n",
      "250/250 [==============================] - 2s 7ms/sample - loss: 0.1409 - acc: 0.9640 - recall_4: 0.9474\n",
      "200/200 [==============================] - 1s 7ms/sample - loss: 0.1056 - acc: 0.9650 - recall_4: 0.9630\n",
      "[0.012637974983804805, 0.9987469, 1.0] [0.14087474000453948, 0.964, 0.94736844] [0.10556093046441674, 0.965, 0.962963]\n"
     ]
    }
   ],
   "source": [
    "results_train = cnn.evaluate(X_train, y_train)\n",
    "results_test = cnn.evaluate(X_test, y_test)\n",
    "results_val =  cnn.evaluate(X_val, y_val)\n",
    "\n",
    "print(results_train, results_test, results_val)"
   ]
  },
  {
   "cell_type": "markdown",
   "metadata": {},
   "source": [
    "## Model iteration 04"
   ]
  },
  {
   "cell_type": "markdown",
   "metadata": {},
   "source": [
    "This model moves the dropout layer at 20% to the output layers."
   ]
  },
  {
   "cell_type": "code",
   "execution_count": 47,
   "metadata": {},
   "outputs": [],
   "source": [
    "# output dropout 0.20\n",
    "cnn = models.Sequential()\n",
    "cnn.add(layers.Conv2D(64, (3, 3),\n",
    "                      activation='relu',\n",
    "                      input_shape=X_train[0].shape,\n",
    "                      padding='SAME'))\n",
    "cnn.add(layers.MaxPooling2D((2, 2)))\n",
    "cnn.add(layers.Conv2D(32, (3, 3), activation='relu'))\n",
    "cnn.add(layers.MaxPooling2D((2, 2)))\n",
    "cnn.add(layers.Flatten())\n",
    "cnn.add(layers.Dense(32, activation='relu'))\n",
    "cnn.add(layers.Dropout(0.2))\n",
    "cnn.add(layers.Dense(16, activation='relu'))\n",
    "cnn.add(layers.Dense(1, activation='sigmoid'))\n",
    "cnn.compile(loss='binary_crossentropy',\n",
    "            optimizer=\"adam\",\n",
    "            metrics=['acc',tensorflow.keras.metrics.Recall()])"
   ]
  },
  {
   "cell_type": "code",
   "execution_count": 48,
   "metadata": {},
   "outputs": [
    {
     "name": "stdout",
     "output_type": "stream",
     "text": [
      "Model: \"sequential_7\"\n",
      "_________________________________________________________________\n",
      "Layer (type)                 Output Shape              Param #   \n",
      "=================================================================\n",
      "conv2d_12 (Conv2D)           (None, 224, 224, 64)      640       \n",
      "_________________________________________________________________\n",
      "max_pooling2d_12 (MaxPooling (None, 112, 112, 64)      0         \n",
      "_________________________________________________________________\n",
      "conv2d_13 (Conv2D)           (None, 110, 110, 32)      18464     \n",
      "_________________________________________________________________\n",
      "max_pooling2d_13 (MaxPooling (None, 55, 55, 32)        0         \n",
      "_________________________________________________________________\n",
      "flatten_6 (Flatten)          (None, 96800)             0         \n",
      "_________________________________________________________________\n",
      "dense_17 (Dense)             (None, 32)                3097632   \n",
      "_________________________________________________________________\n",
      "dropout_3 (Dropout)          (None, 32)                0         \n",
      "_________________________________________________________________\n",
      "dense_18 (Dense)             (None, 16)                528       \n",
      "_________________________________________________________________\n",
      "dense_19 (Dense)             (None, 1)                 17        \n",
      "=================================================================\n",
      "Total params: 3,117,281\n",
      "Trainable params: 3,117,281\n",
      "Non-trainable params: 0\n",
      "_________________________________________________________________\n"
     ]
    }
   ],
   "source": [
    "cnn.summary()"
   ]
  },
  {
   "cell_type": "code",
   "execution_count": 49,
   "metadata": {
    "colab": {},
    "colab_type": "code",
    "id": "N0TyaG2cSn82"
   },
   "outputs": [
    {
     "name": "stdout",
     "output_type": "stream",
     "text": [
      "Train on 798 samples, validate on 200 samples\n",
      "Epoch 1/50\n",
      "798/798 [==============================] - 27s 34ms/sample - loss: 0.5597 - acc: 0.6942 - recall_5: 0.1615 - val_loss: 0.3914 - val_acc: 0.8500 - val_recall_5: 0.9259\n",
      "Epoch 2/50\n",
      "798/798 [==============================] - 24s 30ms/sample - loss: 0.3082 - acc: 0.8885 - recall_5: 0.7962 - val_loss: 0.1532 - val_acc: 0.9600 - val_recall_5: 0.9074\n",
      "Epoch 3/50\n",
      "798/798 [==============================] - 25s 31ms/sample - loss: 0.1782 - acc: 0.9424 - recall_5: 0.8923 - val_loss: 0.1845 - val_acc: 0.9200 - val_recall_5: 0.9259\n",
      "Epoch 4/50\n",
      "798/798 [==============================] - 25s 31ms/sample - loss: 0.1244 - acc: 0.9612 - recall_5: 0.9423 - val_loss: 0.1102 - val_acc: 0.9650 - val_recall_5: 0.9074\n",
      "Epoch 5/50\n",
      "798/798 [==============================] - 25s 31ms/sample - loss: 0.1099 - acc: 0.9637 - recall_5: 0.9423 - val_loss: 0.1337 - val_acc: 0.9450 - val_recall_5: 0.9444\n",
      "Epoch 6/50\n",
      "798/798 [==============================] - 25s 31ms/sample - loss: 0.0704 - acc: 0.9787 - recall_5: 0.9615 - val_loss: 0.2616 - val_acc: 0.8900 - val_recall_5: 0.9815\n",
      "Epoch 7/50\n",
      "798/798 [==============================] - 24s 30ms/sample - loss: 0.1147 - acc: 0.9536 - recall_5: 0.9308 - val_loss: 0.1538 - val_acc: 0.9200 - val_recall_5: 0.9815\n",
      "Epoch 8/50\n",
      "798/798 [==============================] - 24s 31ms/sample - loss: 0.0758 - acc: 0.9712 - recall_5: 0.9615 - val_loss: 0.1398 - val_acc: 0.9600 - val_recall_5: 0.9630\n",
      "Epoch 9/50\n",
      "798/798 [==============================] - 25s 31ms/sample - loss: 0.0469 - acc: 0.9850 - recall_5: 0.9769 - val_loss: 0.1225 - val_acc: 0.9450 - val_recall_5: 0.9444\n"
     ]
    }
   ],
   "source": [
    "# Save the weights for each layer\n",
    "saving_weights = ModelCheckpoint('weights.{epoch:02d}-{val_loss:.2f}.hdf5')\n",
    "\n",
    "#\n",
    "reduce_lr = tensorflow.keras.callbacks.ReduceLROnPlateau(patience=5)\n",
    "\n",
    "#\n",
    "nan_problem = tensorflow.keras.callbacks.TerminateOnNaN()\n",
    "\n",
    "#\n",
    "early_stop = tensorflow.keras.callbacks.EarlyStopping(patience=5)\n",
    "\n",
    "#\n",
    "csv_logger = tensorflow.keras.callbacks.CSVLogger('training.log')\n",
    "\n",
    "#\n",
    "cnn_fit = cnn.fit(X_train, y_train, epochs=50, batch_size=32, validation_data=(X_val, y_val),\n",
    "               callbacks=[csv_logger, early_stop, nan_problem, reduce_lr, saving_weights])"
   ]
  },
  {
   "cell_type": "code",
   "execution_count": 50,
   "metadata": {},
   "outputs": [
    {
     "name": "stdout",
     "output_type": "stream",
     "text": [
      "INFO:tensorflow:Assets written to: models/cnn_04/assets\n"
     ]
    }
   ],
   "source": [
    "cnn.save('models/cnn_04')"
   ]
  },
  {
   "cell_type": "code",
   "execution_count": 51,
   "metadata": {
    "colab": {
     "base_uri": "https://localhost:8080/",
     "height": 295
    },
    "colab_type": "code",
    "id": "fV2LHFpZ73wy",
    "outputId": "367181cc-eb10-4382-b7ff-c8b7a5673c88"
   },
   "outputs": [
    {
     "data": {
      "image/png": "[encoded data removed]",
      "text/plain": [
       "<Figure size 1080x288 with 2 Axes>"
      ]
     },
     "metadata": {
      "needs_background": "light"
     },
     "output_type": "display_data"
    }
   ],
   "source": [
    "hist_cnn = cnn_fit.history\n",
    "loss_values = hist_cnn['loss']\n",
    "val_loss_values = hist_cnn['val_loss']\n",
    "acc_values = hist_cnn['acc']\n",
    "val_acc_values = hist_cnn['val_acc']\n",
    "recall_values = hist_cnn['recall_5']\n",
    "val_recall_values = hist_cnn['val_recall_5']\n",
    "\n",
    "\n",
    "epochs = range(1, len(loss_values) + 1)\n",
    "\n",
    "plt.figure(figsize=(15, 4))\n",
    "plt.subplot(121)\n",
    "plt.plot(epochs, loss_values, 'g', label='Training loss')\n",
    "plt.plot(epochs, val_loss_values, 'r', label='Validation loss')\n",
    "\n",
    "plt.title('Training and Validation Loss')\n",
    "plt.xlabel('Epochs')\n",
    "plt.ylabel('Loss')\n",
    "plt.legend()\n",
    "\n",
    "plt.subplot(122)\n",
    "plt.plot(epochs, recall_values, 'g', label='Training Recall')\n",
    "plt.plot(epochs, val_recall_values, 'r', label='Validation Recall')\n",
    "plt.title('Training and Validation Recall')\n",
    "plt.xlabel('Epochs')\n",
    "plt.ylabel('Recall')\n",
    "plt.legend()\n",
    "plt.show()"
   ]
  },
  {
   "cell_type": "code",
   "execution_count": 52,
   "metadata": {
    "colab": {
     "base_uri": "https://localhost:8080/",
     "height": 68
    },
    "colab_type": "code",
    "id": "JAd1W7eg73w3",
    "outputId": "e62eb046-2f6f-4307-e511-aa2d599efcbe"
   },
   "outputs": [
    {
     "name": "stdout",
     "output_type": "stream",
     "text": [
      "798/798 [==============================] - 6s 8ms/sample - loss: 0.0221 - acc: 0.9925 - recall_5: 0.9962\n",
      "250/250 [==============================] - 2s 9ms/sample - loss: 0.1709 - acc: 0.9400 - recall_5: 0.9474\n",
      "200/200 [==============================] - 2s 8ms/sample - loss: 0.1225 - acc: 0.9450 - recall_5: 0.9444\n",
      "[0.022126811974329457, 0.99248123, 0.99615383] [0.1708543622493744, 0.94, 0.94736844] [0.12247972756624222, 0.945, 0.9444444]\n"
     ]
    }
   ],
   "source": [
    "results_train = cnn.evaluate(X_train, y_train)\n",
    "results_test = cnn.evaluate(X_test, y_test)\n",
    "results_val =  cnn.evaluate(X_val, y_val)\n",
    "\n",
    "print(results_train, results_test, results_val)"
   ]
  },
  {
   "cell_type": "markdown",
   "metadata": {},
   "source": [
    "## Model iteration 05"
   ]
  },
  {
   "cell_type": "markdown",
   "metadata": {},
   "source": [
    "This model increases the dropout layer to 35% in the output layers."
   ]
  },
  {
   "cell_type": "code",
   "execution_count": 53,
   "metadata": {},
   "outputs": [],
   "source": [
    "cnn = models.Sequential()\n",
    "cnn.add(layers.Conv2D(64, (3, 3),\n",
    "                      activation='relu',\n",
    "                      input_shape=X_train[0].shape,\n",
    "                      padding='SAME'))\n",
    "cnn.add(layers.MaxPooling2D((2, 2)))\n",
    "cnn.add(layers.Conv2D(32, (3, 3), activation='relu'))\n",
    "cnn.add(layers.MaxPooling2D((2, 2)))\n",
    "cnn.add(layers.Flatten())\n",
    "cnn.add(layers.Dense(32, activation='relu'))\n",
    "cnn.add(layers.Dropout(0.35))\n",
    "cnn.add(layers.Dense(16, activation='relu'))\n",
    "cnn.add(layers.Dense(1, activation='sigmoid'))\n",
    "cnn.compile(loss='binary_crossentropy',\n",
    "            optimizer=\"adam\",\n",
    "            metrics=['acc',tensorflow.keras.metrics.Recall()])"
   ]
  },
  {
   "cell_type": "code",
   "execution_count": 54,
   "metadata": {},
   "outputs": [
    {
     "name": "stdout",
     "output_type": "stream",
     "text": [
      "Model: \"sequential_8\"\n",
      "_________________________________________________________________\n",
      "Layer (type)                 Output Shape              Param #   \n",
      "=================================================================\n",
      "conv2d_14 (Conv2D)           (None, 224, 224, 64)      640       \n",
      "_________________________________________________________________\n",
      "max_pooling2d_14 (MaxPooling (None, 112, 112, 64)      0         \n",
      "_________________________________________________________________\n",
      "conv2d_15 (Conv2D)           (None, 110, 110, 32)      18464     \n",
      "_________________________________________________________________\n",
      "max_pooling2d_15 (MaxPooling (None, 55, 55, 32)        0         \n",
      "_________________________________________________________________\n",
      "flatten_7 (Flatten)          (None, 96800)             0         \n",
      "_________________________________________________________________\n",
      "dense_20 (Dense)             (None, 32)                3097632   \n",
      "_________________________________________________________________\n",
      "dropout_4 (Dropout)          (None, 32)                0         \n",
      "_________________________________________________________________\n",
      "dense_21 (Dense)             (None, 16)                528       \n",
      "_________________________________________________________________\n",
      "dense_22 (Dense)             (None, 1)                 17        \n",
      "=================================================================\n",
      "Total params: 3,117,281\n",
      "Trainable params: 3,117,281\n",
      "Non-trainable params: 0\n",
      "_________________________________________________________________\n"
     ]
    }
   ],
   "source": [
    "cnn.summary()"
   ]
  },
  {
   "cell_type": "code",
   "execution_count": 55,
   "metadata": {
    "colab": {},
    "colab_type": "code",
    "id": "N0TyaG2cSn82"
   },
   "outputs": [
    {
     "name": "stdout",
     "output_type": "stream",
     "text": [
      "Train on 798 samples, validate on 200 samples\n",
      "Epoch 1/50\n",
      "798/798 [==============================] - 26s 32ms/sample - loss: 0.6393 - acc: 0.6529 - recall_6: 0.0192 - val_loss: 0.4947 - val_acc: 0.7300 - val_recall_6: 0.0000e+00\n",
      "Epoch 2/50\n",
      "798/798 [==============================] - 24s 31ms/sample - loss: 0.4304 - acc: 0.7870 - recall_6: 0.4423 - val_loss: 0.2271 - val_acc: 0.9100 - val_recall_6: 0.9074\n",
      "Epoch 3/50\n",
      "798/798 [==============================] - 24s 31ms/sample - loss: 0.2517 - acc: 0.9023 - recall_6: 0.8000 - val_loss: 0.1365 - val_acc: 0.9600 - val_recall_6: 0.9074\n",
      "Epoch 4/50\n",
      "798/798 [==============================] - 26s 32ms/sample - loss: 0.1796 - acc: 0.9373 - recall_6: 0.8769 - val_loss: 0.2194 - val_acc: 0.9050 - val_recall_6: 0.9630\n",
      "Epoch 5/50\n",
      "798/798 [==============================] - 24s 30ms/sample - loss: 0.1606 - acc: 0.9449 - recall_6: 0.9115 - val_loss: 0.1332 - val_acc: 0.9400 - val_recall_6: 0.9259\n",
      "Epoch 6/50\n",
      "798/798 [==============================] - 25s 31ms/sample - loss: 0.1280 - acc: 0.9536 - recall_6: 0.9269 - val_loss: 0.1628 - val_acc: 0.9500 - val_recall_6: 0.8148\n",
      "Epoch 7/50\n",
      "798/798 [==============================] - 25s 31ms/sample - loss: 0.1389 - acc: 0.9511 - recall_6: 0.9077 - val_loss: 0.1100 - val_acc: 0.9600 - val_recall_6: 0.8889\n",
      "Epoch 8/50\n",
      "798/798 [==============================] - 25s 31ms/sample - loss: 0.0901 - acc: 0.9662 - recall_6: 0.9308 - val_loss: 0.1435 - val_acc: 0.9350 - val_recall_6: 0.9630\n",
      "Epoch 9/50\n",
      "798/798 [==============================] - 25s 31ms/sample - loss: 0.0768 - acc: 0.9724 - recall_6: 0.9500 - val_loss: 0.1282 - val_acc: 0.9350 - val_recall_6: 0.9630\n",
      "Epoch 10/50\n",
      "798/798 [==============================] - 25s 31ms/sample - loss: 0.0758 - acc: 0.9724 - recall_6: 0.9615 - val_loss: 0.1222 - val_acc: 0.9400 - val_recall_6: 0.9444\n",
      "Epoch 11/50\n",
      "798/798 [==============================] - 25s 31ms/sample - loss: 0.0508 - acc: 0.9825 - recall_6: 0.9731 - val_loss: 0.1143 - val_acc: 0.9700 - val_recall_6: 0.9074\n",
      "Epoch 12/50\n",
      "798/798 [==============================] - 25s 31ms/sample - loss: 0.0463 - acc: 0.9875 - recall_6: 0.9808 - val_loss: 0.0860 - val_acc: 0.9700 - val_recall_6: 0.9444\n",
      "Epoch 13/50\n",
      "798/798 [==============================] - 25s 32ms/sample - loss: 0.0474 - acc: 0.9787 - recall_6: 0.9577 - val_loss: 0.0871 - val_acc: 0.9650 - val_recall_6: 0.9444\n",
      "Epoch 14/50\n",
      "798/798 [==============================] - 26s 32ms/sample - loss: 0.0403 - acc: 0.9875 - recall_6: 0.9769 - val_loss: 0.1143 - val_acc: 0.9650 - val_recall_6: 0.9074\n",
      "Epoch 15/50\n",
      "798/798 [==============================] - 25s 31ms/sample - loss: 0.0287 - acc: 0.9912 - recall_6: 0.9885 - val_loss: 0.1042 - val_acc: 0.9600 - val_recall_6: 0.9259\n",
      "Epoch 16/50\n",
      "798/798 [==============================] - 25s 31ms/sample - loss: 0.0215 - acc: 0.9950 - recall_6: 0.9885 - val_loss: 0.1275 - val_acc: 0.9650 - val_recall_6: 0.9074\n",
      "Epoch 17/50\n",
      "798/798 [==============================] - 25s 31ms/sample - loss: 0.0299 - acc: 0.9850 - recall_6: 0.9654 - val_loss: 0.1179 - val_acc: 0.9700 - val_recall_6: 0.9074\n"
     ]
    }
   ],
   "source": [
    "# Save the weights for each layer\n",
    "saving_weights = ModelCheckpoint('weights.{epoch:02d}-{val_loss:.2f}.hdf5')\n",
    "\n",
    "#\n",
    "reduce_lr = tensorflow.keras.callbacks.ReduceLROnPlateau(patience=5)\n",
    "\n",
    "#\n",
    "nan_problem = tensorflow.keras.callbacks.TerminateOnNaN()\n",
    "\n",
    "#\n",
    "early_stop = tensorflow.keras.callbacks.EarlyStopping(patience=5)\n",
    "\n",
    "#\n",
    "csv_logger = tensorflow.keras.callbacks.CSVLogger('training.log')\n",
    "\n",
    "#\n",
    "cnn_fit = cnn.fit(X_train, y_train, epochs=50, batch_size=32, validation_data=(X_val, y_val),\n",
    "               callbacks=[csv_logger, early_stop, nan_problem, reduce_lr, saving_weights])"
   ]
  },
  {
   "cell_type": "code",
   "execution_count": 56,
   "metadata": {},
   "outputs": [
    {
     "name": "stdout",
     "output_type": "stream",
     "text": [
      "INFO:tensorflow:Assets written to: models/cnn_05/assets\n"
     ]
    }
   ],
   "source": [
    "cnn.save('models/cnn_05')"
   ]
  },
  {
   "cell_type": "code",
   "execution_count": 58,
   "metadata": {
    "colab": {
     "base_uri": "https://localhost:8080/",
     "height": 295
    },
    "colab_type": "code",
    "id": "fV2LHFpZ73wy",
    "outputId": "367181cc-eb10-4382-b7ff-c8b7a5673c88"
   },
   "outputs": [
    {
     "data": {
      "image/png": "[encoded data removed]",
      "text/plain": [
       "<Figure size 1080x288 with 2 Axes>"
      ]
     },
     "metadata": {
      "needs_background": "light"
     },
     "output_type": "display_data"
    }
   ],
   "source": [
    "hist_cnn = cnn_fit.history\n",
    "loss_values = hist_cnn['loss']\n",
    "val_loss_values = hist_cnn['val_loss']\n",
    "acc_values = hist_cnn['acc']\n",
    "val_acc_values = hist_cnn['val_acc']\n",
    "recall_values = hist_cnn['recall_6']\n",
    "val_recall_values = hist_cnn['val_recall_6']\n",
    "\n",
    "\n",
    "epochs = range(1, len(loss_values) + 1)\n",
    "\n",
    "plt.figure(figsize=(15, 4))\n",
    "plt.subplot(121)\n",
    "plt.plot(epochs, loss_values, 'g', label='Training loss')\n",
    "plt.plot(epochs, val_loss_values, 'r', label='Validation loss')\n",
    "\n",
    "plt.title('Training and Validation Loss')\n",
    "plt.xlabel('Epochs')\n",
    "plt.ylabel('Loss')\n",
    "plt.legend()\n",
    "\n",
    "plt.subplot(122)\n",
    "plt.plot(epochs, recall_values, 'g', label='Training Recall')\n",
    "plt.plot(epochs, val_recall_values, 'r', label='Validation Recall')\n",
    "plt.title('Training and Validation Recall')\n",
    "plt.xlabel('Epochs')\n",
    "plt.ylabel('Recall')\n",
    "plt.legend()\n",
    "plt.show()"
   ]
  },
  {
   "cell_type": "code",
   "execution_count": 59,
   "metadata": {
    "colab": {
     "base_uri": "https://localhost:8080/",
     "height": 68
    },
    "colab_type": "code",
    "id": "JAd1W7eg73w3",
    "outputId": "e62eb046-2f6f-4307-e511-aa2d599efcbe"
   },
   "outputs": [
    {
     "name": "stdout",
     "output_type": "stream",
     "text": [
      "798/798 [==============================] - 6s 7ms/sample - loss: 0.0050 - acc: 1.0000 - recall_6: 1.0000\n",
      "250/250 [==============================] - 2s 8ms/sample - loss: 0.1978 - acc: 0.9440 - recall_6: 0.9079\n",
      "200/200 [==============================] - 2s 8ms/sample - loss: 0.1179 - acc: 0.9700 - recall_6: 0.9074\n",
      "[0.004995049846902452, 1.0, 1.0] [0.19776352763175964, 0.944, 0.90789473] [0.11790354375727474, 0.97, 0.9074074]\n"
     ]
    }
   ],
   "source": [
    "results_train = cnn.evaluate(X_train, y_train)\n",
    "results_test = cnn.evaluate(X_test, y_test)\n",
    "results_val =  cnn.evaluate(X_val, y_val)\n",
    "\n",
    "print(results_train, results_test, results_val)"
   ]
  },
  {
   "cell_type": "markdown",
   "metadata": {},
   "source": [
    "## Model iteration 06"
   ]
  },
  {
   "cell_type": "markdown",
   "metadata": {},
   "source": [
    "This model adds dropout layers at 20% to the hidden and output layers."
   ]
  },
  {
   "cell_type": "code",
   "execution_count": 60,
   "metadata": {},
   "outputs": [],
   "source": [
    "cnn = models.Sequential()\n",
    "cnn.add(layers.Conv2D(64, (3, 3),\n",
    "                      activation='relu',\n",
    "                      input_shape=X_train[0].shape,\n",
    "                      padding='SAME'))\n",
    "cnn.add(layers.MaxPooling2D((2, 2)))\n",
    "cnn.add(layers.Dropout(0.2))\n",
    "cnn.add(layers.Conv2D(32, (3, 3), activation='relu'))\n",
    "cnn.add(layers.MaxPooling2D((2, 2)))\n",
    "cnn.add(layers.Flatten())\n",
    "cnn.add(layers.Dense(32, activation='relu'))\n",
    "cnn.add(layers.Dropout(0.2))\n",
    "cnn.add(layers.Dense(16, activation='relu'))\n",
    "cnn.add(layers.Dense(1, activation='sigmoid'))\n",
    "cnn.compile(loss='binary_crossentropy',\n",
    "            optimizer=\"adam\",\n",
    "            metrics=['acc',tensorflow.keras.metrics.Recall()])"
   ]
  },
  {
   "cell_type": "code",
   "execution_count": 61,
   "metadata": {},
   "outputs": [
    {
     "name": "stdout",
     "output_type": "stream",
     "text": [
      "Model: \"sequential_9\"\n",
      "_________________________________________________________________\n",
      "Layer (type)                 Output Shape              Param #   \n",
      "=================================================================\n",
      "conv2d_16 (Conv2D)           (None, 224, 224, 64)      640       \n",
      "_________________________________________________________________\n",
      "max_pooling2d_16 (MaxPooling (None, 112, 112, 64)      0         \n",
      "_________________________________________________________________\n",
      "dropout_5 (Dropout)          (None, 112, 112, 64)      0         \n",
      "_________________________________________________________________\n",
      "conv2d_17 (Conv2D)           (None, 110, 110, 32)      18464     \n",
      "_________________________________________________________________\n",
      "max_pooling2d_17 (MaxPooling (None, 55, 55, 32)        0         \n",
      "_________________________________________________________________\n",
      "flatten_8 (Flatten)          (None, 96800)             0         \n",
      "_________________________________________________________________\n",
      "dense_23 (Dense)             (None, 32)                3097632   \n",
      "_________________________________________________________________\n",
      "dropout_6 (Dropout)          (None, 32)                0         \n",
      "_________________________________________________________________\n",
      "dense_24 (Dense)             (None, 16)                528       \n",
      "_________________________________________________________________\n",
      "dense_25 (Dense)             (None, 1)                 17        \n",
      "=================================================================\n",
      "Total params: 3,117,281\n",
      "Trainable params: 3,117,281\n",
      "Non-trainable params: 0\n",
      "_________________________________________________________________\n"
     ]
    }
   ],
   "source": [
    "cnn.summary()"
   ]
  },
  {
   "cell_type": "code",
   "execution_count": 62,
   "metadata": {
    "colab": {},
    "colab_type": "code",
    "id": "N0TyaG2cSn82"
   },
   "outputs": [
    {
     "name": "stdout",
     "output_type": "stream",
     "text": [
      "Train on 798 samples, validate on 200 samples\n",
      "Epoch 1/50\n",
      "798/798 [==============================] - 28s 35ms/sample - loss: 0.7844 - acc: 0.6491 - recall_7: 0.0577 - val_loss: 0.6210 - val_acc: 0.7300 - val_recall_7: 0.0000e+00\n",
      "Epoch 2/50\n",
      "798/798 [==============================] - 27s 34ms/sample - loss: 0.5221 - acc: 0.6967 - recall_7: 0.0731 - val_loss: 0.3598 - val_acc: 0.9100 - val_recall_7: 0.6667\n",
      "Epoch 3/50\n",
      "798/798 [==============================] - 30s 38ms/sample - loss: 0.3376 - acc: 0.8722 - recall_7: 0.6885 - val_loss: 0.2859 - val_acc: 0.9050 - val_recall_7: 0.9259\n",
      "Epoch 4/50\n",
      "798/798 [==============================] - 28s 35ms/sample - loss: 0.2593 - acc: 0.9223 - recall_7: 0.8577 - val_loss: 0.1392 - val_acc: 0.9600 - val_recall_7: 0.8889\n",
      "Epoch 5/50\n",
      "798/798 [==============================] - 27s 34ms/sample - loss: 0.1716 - acc: 0.9386 - recall_7: 0.8731 - val_loss: 0.1615 - val_acc: 0.9400 - val_recall_7: 0.9259\n",
      "Epoch 6/50\n",
      "798/798 [==============================] - 27s 34ms/sample - loss: 0.1800 - acc: 0.9298 - recall_7: 0.9000 - val_loss: 0.1412 - val_acc: 0.9500 - val_recall_7: 0.9444\n",
      "Epoch 7/50\n",
      "798/798 [==============================] - 27s 34ms/sample - loss: 0.1369 - acc: 0.9599 - recall_7: 0.9346 - val_loss: 0.1298 - val_acc: 0.9550 - val_recall_7: 0.9259\n",
      "Epoch 8/50\n",
      "798/798 [==============================] - 27s 34ms/sample - loss: 0.1107 - acc: 0.9461 - recall_7: 0.9077 - val_loss: 0.1109 - val_acc: 0.9650 - val_recall_7: 0.9259\n",
      "Epoch 9/50\n",
      "798/798 [==============================] - 27s 34ms/sample - loss: 0.0910 - acc: 0.9649 - recall_7: 0.9423 - val_loss: 0.1010 - val_acc: 0.9750 - val_recall_7: 0.9259\n",
      "Epoch 10/50\n",
      "798/798 [==============================] - 27s 34ms/sample - loss: 0.0756 - acc: 0.9737 - recall_7: 0.9692 - val_loss: 0.1345 - val_acc: 0.9700 - val_recall_7: 0.8889\n",
      "Epoch 11/50\n",
      "798/798 [==============================] - 27s 34ms/sample - loss: 0.0710 - acc: 0.9712 - recall_7: 0.9423 - val_loss: 0.1342 - val_acc: 0.9500 - val_recall_7: 0.9444\n",
      "Epoch 12/50\n",
      "798/798 [==============================] - 27s 34ms/sample - loss: 0.0504 - acc: 0.9850 - recall_7: 0.9885 - val_loss: 0.1037 - val_acc: 0.9750 - val_recall_7: 0.9259\n",
      "Epoch 13/50\n",
      "798/798 [==============================] - 27s 33ms/sample - loss: 0.0474 - acc: 0.9837 - recall_7: 0.9692 - val_loss: 0.1058 - val_acc: 0.9600 - val_recall_7: 0.9444\n",
      "Epoch 14/50\n",
      "798/798 [==============================] - 27s 34ms/sample - loss: 0.0298 - acc: 0.9937 - recall_7: 0.9885 - val_loss: 0.1059 - val_acc: 0.9800 - val_recall_7: 0.9630\n"
     ]
    }
   ],
   "source": [
    "# Save the weights for each layer\n",
    "saving_weights = ModelCheckpoint('weights.{epoch:02d}-{val_loss:.2f}.hdf5')\n",
    "\n",
    "#\n",
    "reduce_lr = tensorflow.keras.callbacks.ReduceLROnPlateau(patience=5)\n",
    "\n",
    "#\n",
    "nan_problem = tensorflow.keras.callbacks.TerminateOnNaN()\n",
    "\n",
    "#\n",
    "early_stop = tensorflow.keras.callbacks.EarlyStopping(patience=5)\n",
    "\n",
    "#\n",
    "csv_logger = tensorflow.keras.callbacks.CSVLogger('training.log')\n",
    "\n",
    "#\n",
    "cnn_fit = cnn.fit(X_train, y_train, epochs=50, batch_size=32, validation_data=(X_val, y_val),\n",
    "               callbacks=[csv_logger, early_stop, nan_problem, reduce_lr, saving_weights])"
   ]
  },
  {
   "cell_type": "code",
   "execution_count": 63,
   "metadata": {},
   "outputs": [
    {
     "name": "stdout",
     "output_type": "stream",
     "text": [
      "INFO:tensorflow:Assets written to: models/cnn_06/assets\n"
     ]
    }
   ],
   "source": [
    "cnn.save('models/cnn_06')"
   ]
  },
  {
   "cell_type": "code",
   "execution_count": 64,
   "metadata": {
    "colab": {
     "base_uri": "https://localhost:8080/",
     "height": 295
    },
    "colab_type": "code",
    "id": "fV2LHFpZ73wy",
    "outputId": "367181cc-eb10-4382-b7ff-c8b7a5673c88"
   },
   "outputs": [
    {
     "data": {
      "image/png": "[encoded data removed]",
      "text/plain": [
       "<Figure size 1080x288 with 2 Axes>"
      ]
     },
     "metadata": {
      "needs_background": "light"
     },
     "output_type": "display_data"
    }
   ],
   "source": [
    "hist_cnn = cnn_fit.history\n",
    "loss_values = hist_cnn['loss']\n",
    "val_loss_values = hist_cnn['val_loss']\n",
    "acc_values = hist_cnn['acc']\n",
    "val_acc_values = hist_cnn['val_acc']\n",
    "recall_values = hist_cnn['recall_7']\n",
    "val_recall_values = hist_cnn['val_recall_7']\n",
    "\n",
    "\n",
    "epochs = range(1, len(loss_values) + 1)\n",
    "\n",
    "plt.figure(figsize=(15, 4))\n",
    "plt.subplot(121)\n",
    "plt.plot(epochs, loss_values, 'g', label='Training loss')\n",
    "plt.plot(epochs, val_loss_values, 'r', label='Validation loss')\n",
    "\n",
    "plt.title('Training and Validation Loss')\n",
    "plt.xlabel('Epochs')\n",
    "plt.ylabel('Loss')\n",
    "plt.legend()\n",
    "\n",
    "plt.subplot(122)\n",
    "plt.plot(epochs, recall_values, 'g', label='Training Recall')\n",
    "plt.plot(epochs, val_recall_values, 'r', label='Validation Recall')\n",
    "plt.title('Training and Validation Recall')\n",
    "plt.xlabel('Epochs')\n",
    "plt.ylabel('Recall')\n",
    "plt.legend()\n",
    "plt.show()"
   ]
  },
  {
   "cell_type": "code",
   "execution_count": 65,
   "metadata": {
    "colab": {
     "base_uri": "https://localhost:8080/",
     "height": 68
    },
    "colab_type": "code",
    "id": "JAd1W7eg73w3",
    "outputId": "e62eb046-2f6f-4307-e511-aa2d599efcbe"
   },
   "outputs": [
    {
     "name": "stdout",
     "output_type": "stream",
     "text": [
      "798/798 [==============================] - 6s 7ms/sample - loss: 0.0098 - acc: 0.9987 - recall_7: 1.0000\n",
      "250/250 [==============================] - 2s 8ms/sample - loss: 0.1740 - acc: 0.9440 - recall_7: 0.9211\n",
      "200/200 [==============================] - 1s 7ms/sample - loss: 0.1059 - acc: 0.9800 - recall_7: 0.9630\n",
      "[0.00980300872462958, 0.9987469, 1.0] [0.1739767336845398, 0.944, 0.92105263] [0.10591638097539544, 0.98, 0.962963]\n"
     ]
    }
   ],
   "source": [
    "results_train = cnn.evaluate(X_train, y_train)\n",
    "results_test = cnn.evaluate(X_test, y_test)\n",
    "results_val =  cnn.evaluate(X_val, y_val)\n",
    "\n",
    "print(results_train, results_test, results_val)"
   ]
  },
  {
   "cell_type": "markdown",
   "metadata": {},
   "source": [
    "## Model iteration 07"
   ]
  },
  {
   "cell_type": "markdown",
   "metadata": {},
   "source": [
    "This model increases the dropout layer in the hidden layers to 35%."
   ]
  },
  {
   "cell_type": "code",
   "execution_count": 66,
   "metadata": {},
   "outputs": [],
   "source": [
    "cnn = models.Sequential()\n",
    "cnn.add(layers.Conv2D(64, (3, 3),\n",
    "                      activation='relu',\n",
    "                      input_shape=X_train[0].shape,\n",
    "                      padding='SAME'))\n",
    "cnn.add(layers.MaxPooling2D((2, 2)))\n",
    "cnn.add(layers.Dropout(0.35))\n",
    "cnn.add(layers.Conv2D(32, (3, 3), activation='relu'))\n",
    "cnn.add(layers.MaxPooling2D((2, 2)))\n",
    "cnn.add(layers.Flatten())\n",
    "cnn.add(layers.Dense(32, activation='relu'))\n",
    "cnn.add(layers.Dense(16, activation='relu'))\n",
    "cnn.add(layers.Dense(1, activation='sigmoid'))\n",
    "cnn.compile(loss='binary_crossentropy',\n",
    "            optimizer=\"adam\",\n",
    "            metrics=['acc',tensorflow.keras.metrics.Recall()])"
   ]
  },
  {
   "cell_type": "code",
   "execution_count": 67,
   "metadata": {},
   "outputs": [
    {
     "name": "stdout",
     "output_type": "stream",
     "text": [
      "Model: \"sequential_10\"\n",
      "_________________________________________________________________\n",
      "Layer (type)                 Output Shape              Param #   \n",
      "=================================================================\n",
      "conv2d_18 (Conv2D)           (None, 224, 224, 64)      640       \n",
      "_________________________________________________________________\n",
      "max_pooling2d_18 (MaxPooling (None, 112, 112, 64)      0         \n",
      "_________________________________________________________________\n",
      "dropout_7 (Dropout)          (None, 112, 112, 64)      0         \n",
      "_________________________________________________________________\n",
      "conv2d_19 (Conv2D)           (None, 110, 110, 32)      18464     \n",
      "_________________________________________________________________\n",
      "max_pooling2d_19 (MaxPooling (None, 55, 55, 32)        0         \n",
      "_________________________________________________________________\n",
      "flatten_9 (Flatten)          (None, 96800)             0         \n",
      "_________________________________________________________________\n",
      "dense_26 (Dense)             (None, 32)                3097632   \n",
      "_________________________________________________________________\n",
      "dense_27 (Dense)             (None, 16)                528       \n",
      "_________________________________________________________________\n",
      "dense_28 (Dense)             (None, 1)                 17        \n",
      "=================================================================\n",
      "Total params: 3,117,281\n",
      "Trainable params: 3,117,281\n",
      "Non-trainable params: 0\n",
      "_________________________________________________________________\n"
     ]
    }
   ],
   "source": [
    "cnn.summary()"
   ]
  },
  {
   "cell_type": "code",
   "execution_count": 68,
   "metadata": {
    "colab": {},
    "colab_type": "code",
    "id": "N0TyaG2cSn82"
   },
   "outputs": [
    {
     "name": "stdout",
     "output_type": "stream",
     "text": [
      "Train on 798 samples, validate on 200 samples\n",
      "Epoch 1/50\n",
      "798/798 [==============================] - 28s 35ms/sample - loss: 1.1367 - acc: 0.6667 - recall_8: 0.0346 - val_loss: 0.6456 - val_acc: 0.7300 - val_recall_8: 0.0000e+00\n",
      "Epoch 2/50\n",
      "798/798 [==============================] - 27s 34ms/sample - loss: 0.5394 - acc: 0.7055 - recall_8: 0.0962 - val_loss: 0.4318 - val_acc: 0.8350 - val_recall_8: 0.3889\n",
      "Epoch 3/50\n",
      "798/798 [==============================] - 27s 34ms/sample - loss: 0.3773 - acc: 0.8584 - recall_8: 0.6000 - val_loss: 0.3556 - val_acc: 0.9150 - val_recall_8: 0.9074\n",
      "Epoch 4/50\n",
      "798/798 [==============================] - 27s 34ms/sample - loss: 0.3279 - acc: 0.9273 - recall_8: 0.8308 - val_loss: 0.3113 - val_acc: 0.9500 - val_recall_8: 0.9259\n",
      "Epoch 5/50\n",
      "798/798 [==============================] - 27s 34ms/sample - loss: 0.3040 - acc: 0.9348 - recall_8: 0.8462 - val_loss: 0.3330 - val_acc: 0.9450 - val_recall_8: 0.9815\n",
      "Epoch 6/50\n",
      "798/798 [==============================] - 28s 35ms/sample - loss: 0.2858 - acc: 0.9436 - recall_8: 0.8692 - val_loss: 0.2556 - val_acc: 0.9500 - val_recall_8: 0.8148\n",
      "Epoch 7/50\n",
      "798/798 [==============================] - 28s 35ms/sample - loss: 0.2621 - acc: 0.9561 - recall_8: 0.9000 - val_loss: 0.2670 - val_acc: 0.9600 - val_recall_8: 0.8889\n",
      "Epoch 8/50\n",
      "798/798 [==============================] - 27s 34ms/sample - loss: 0.2478 - acc: 0.9637 - recall_8: 0.9308 - val_loss: 0.2321 - val_acc: 0.9700 - val_recall_8: 0.8889\n",
      "Epoch 9/50\n",
      "798/798 [==============================] - 27s 34ms/sample - loss: 0.2433 - acc: 0.9662 - recall_8: 0.9346 - val_loss: 0.2338 - val_acc: 0.9750 - val_recall_8: 0.9444\n",
      "Epoch 10/50\n",
      "798/798 [==============================] - 27s 34ms/sample - loss: 0.2218 - acc: 0.9787 - recall_8: 0.9577 - val_loss: 0.2249 - val_acc: 0.9650 - val_recall_8: 0.9074\n",
      "Epoch 11/50\n",
      "798/798 [==============================] - 27s 34ms/sample - loss: 0.2168 - acc: 0.9749 - recall_8: 0.9615 - val_loss: 0.2303 - val_acc: 0.9700 - val_recall_8: 0.9074\n",
      "Epoch 12/50\n",
      "798/798 [==============================] - 27s 34ms/sample - loss: 0.2064 - acc: 0.9837 - recall_8: 0.9731 - val_loss: 0.2202 - val_acc: 0.9700 - val_recall_8: 0.9259\n",
      "Epoch 13/50\n",
      "798/798 [==============================] - 27s 34ms/sample - loss: 0.1954 - acc: 0.9875 - recall_8: 0.9808 - val_loss: 0.2235 - val_acc: 0.9650 - val_recall_8: 0.8889\n",
      "Epoch 14/50\n",
      "798/798 [==============================] - 27s 34ms/sample - loss: 0.1937 - acc: 0.9850 - recall_8: 0.9692 - val_loss: 0.2156 - val_acc: 0.9650 - val_recall_8: 0.9259\n",
      "Epoch 15/50\n",
      "798/798 [==============================] - 28s 35ms/sample - loss: 0.1888 - acc: 0.9875 - recall_8: 0.9846 - val_loss: 0.2244 - val_acc: 0.9700 - val_recall_8: 0.8889\n",
      "Epoch 16/50\n",
      "798/798 [==============================] - 28s 35ms/sample - loss: 0.1812 - acc: 0.9862 - recall_8: 0.9731 - val_loss: 0.2289 - val_acc: 0.9600 - val_recall_8: 0.8704\n",
      "Epoch 17/50\n",
      "798/798 [==============================] - 28s 35ms/sample - loss: 0.1750 - acc: 0.9875 - recall_8: 0.9808 - val_loss: 0.2037 - val_acc: 0.9600 - val_recall_8: 0.8889\n",
      "Epoch 18/50\n",
      "798/798 [==============================] - 28s 35ms/sample - loss: 0.1634 - acc: 0.9912 - recall_8: 0.9923 - val_loss: 0.2092 - val_acc: 0.9650 - val_recall_8: 0.8889\n",
      "Epoch 19/50\n",
      "798/798 [==============================] - 30s 38ms/sample - loss: 0.1562 - acc: 0.9925 - recall_8: 0.9923 - val_loss: 0.2050 - val_acc: 0.9650 - val_recall_8: 0.9259\n",
      "Epoch 20/50\n",
      "798/798 [==============================] - 29s 37ms/sample - loss: 0.1480 - acc: 0.9937 - recall_8: 0.9962 - val_loss: 0.2104 - val_acc: 0.9700 - val_recall_8: 0.9259\n",
      "Epoch 21/50\n",
      "798/798 [==============================] - 28s 35ms/sample - loss: 0.1403 - acc: 0.9937 - recall_8: 0.9962 - val_loss: 0.1991 - val_acc: 0.9700 - val_recall_8: 0.9259\n",
      "Epoch 22/50\n",
      "798/798 [==============================] - 34s 43ms/sample - loss: 0.1338 - acc: 0.9950 - recall_8: 1.0000 - val_loss: 0.1863 - val_acc: 0.9750 - val_recall_8: 0.9444\n",
      "Epoch 23/50\n",
      "798/798 [==============================] - 29s 36ms/sample - loss: 0.1274 - acc: 0.9950 - recall_8: 0.9962 - val_loss: 0.2021 - val_acc: 0.9650 - val_recall_8: 0.9074\n",
      "Epoch 24/50\n",
      "798/798 [==============================] - 29s 36ms/sample - loss: 0.1214 - acc: 0.9950 - recall_8: 0.9962 - val_loss: 0.1719 - val_acc: 0.9750 - val_recall_8: 0.9444\n",
      "Epoch 25/50\n",
      "798/798 [==============================] - 29s 37ms/sample - loss: 0.1188 - acc: 0.9937 - recall_8: 0.9923 - val_loss: 0.1950 - val_acc: 0.9700 - val_recall_8: 0.9444\n",
      "Epoch 26/50\n",
      "798/798 [==============================] - 29s 36ms/sample - loss: 0.1133 - acc: 0.9937 - recall_8: 0.9962 - val_loss: 0.1784 - val_acc: 0.9750 - val_recall_8: 0.9444\n",
      "Epoch 27/50\n",
      "798/798 [==============================] - 29s 36ms/sample - loss: 0.1075 - acc: 0.9912 - recall_8: 0.9885 - val_loss: 0.1795 - val_acc: 0.9650 - val_recall_8: 0.9074\n",
      "Epoch 28/50\n",
      "798/798 [==============================] - 29s 36ms/sample - loss: 0.0985 - acc: 0.9962 - recall_8: 1.0000 - val_loss: 0.1847 - val_acc: 0.9750 - val_recall_8: 0.9444\n",
      "Epoch 29/50\n",
      "798/798 [==============================] - 28s 36ms/sample - loss: 0.0921 - acc: 0.9962 - recall_8: 1.0000 - val_loss: 0.1903 - val_acc: 0.9700 - val_recall_8: 0.9259\n"
     ]
    }
   ],
   "source": [
    "# Save the weights for each layer\n",
    "saving_weights = ModelCheckpoint('weights.{epoch:02d}-{val_loss:.2f}.hdf5')\n",
    "\n",
    "#\n",
    "reduce_lr = tensorflow.keras.callbacks.ReduceLROnPlateau(patience=5)\n",
    "\n",
    "#\n",
    "nan_problem = tensorflow.keras.callbacks.TerminateOnNaN()\n",
    "\n",
    "#\n",
    "early_stop = tensorflow.keras.callbacks.EarlyStopping(patience=5)\n",
    "\n",
    "#\n",
    "csv_logger = tensorflow.keras.callbacks.CSVLogger('training.log')\n",
    "\n",
    "#\n",
    "cnn_fit = cnn.fit(X_train, y_train, epochs=50, batch_size=32, validation_data=(X_val, y_val),\n",
    "               callbacks=[csv_logger, early_stop, nan_problem, reduce_lr, saving_weights])"
   ]
  },
  {
   "cell_type": "code",
   "execution_count": 69,
   "metadata": {},
   "outputs": [
    {
     "name": "stdout",
     "output_type": "stream",
     "text": [
      "INFO:tensorflow:Assets written to: models/cnn_07/assets\n"
     ]
    }
   ],
   "source": [
    "cnn.save('models/cnn_07')"
   ]
  },
  {
   "cell_type": "code",
   "execution_count": 70,
   "metadata": {
    "colab": {
     "base_uri": "https://localhost:8080/",
     "height": 295
    },
    "colab_type": "code",
    "id": "fV2LHFpZ73wy",
    "outputId": "367181cc-eb10-4382-b7ff-c8b7a5673c88"
   },
   "outputs": [
    {
     "data": {
      "image/png": "[encoded data removed]",
      "text/plain": [
       "<Figure size 1080x288 with 2 Axes>"
      ]
     },
     "metadata": {
      "needs_background": "light"
     },
     "output_type": "display_data"
    }
   ],
   "source": [
    "hist_cnn = cnn_fit.history\n",
    "loss_values = hist_cnn['loss']\n",
    "val_loss_values = hist_cnn['val_loss']\n",
    "acc_values = hist_cnn['acc']\n",
    "val_acc_values = hist_cnn['val_acc']\n",
    "recall_values = hist_cnn['recall_8']\n",
    "val_recall_values = hist_cnn['val_recall_8']\n",
    "\n",
    "\n",
    "epochs = range(1, len(loss_values) + 1)\n",
    "\n",
    "plt.figure(figsize=(15, 4))\n",
    "plt.subplot(121)\n",
    "plt.plot(epochs, loss_values, 'g', label='Training loss')\n",
    "plt.plot(epochs, val_loss_values, 'r', label='Validation loss')\n",
    "\n",
    "plt.title('Training and Validation Loss')\n",
    "plt.xlabel('Epochs')\n",
    "plt.ylabel('Loss')\n",
    "plt.legend()\n",
    "\n",
    "plt.subplot(122)\n",
    "plt.plot(epochs, recall_values, 'g', label='Training Recall')\n",
    "plt.plot(epochs, val_recall_values, 'r', label='Validation Recall')\n",
    "plt.title('Training and Validation Recall')\n",
    "plt.xlabel('Epochs')\n",
    "plt.ylabel('Recall')\n",
    "plt.legend()\n",
    "plt.show()"
   ]
  },
  {
   "cell_type": "code",
   "execution_count": 71,
   "metadata": {
    "colab": {
     "base_uri": "https://localhost:8080/",
     "height": 68
    },
    "colab_type": "code",
    "id": "JAd1W7eg73w3",
    "outputId": "e62eb046-2f6f-4307-e511-aa2d599efcbe"
   },
   "outputs": [
    {
     "name": "stdout",
     "output_type": "stream",
     "text": [
      "798/798 [==============================] - 6s 8ms/sample - loss: 0.0897 - acc: 0.9962 - recall_8: 1.0000\n",
      "250/250 [==============================] - 2s 8ms/sample - loss: 0.2152 - acc: 0.9560 - recall_8: 0.9079\n",
      "200/200 [==============================] - 2s 8ms/sample - loss: 0.1903 - acc: 0.9700 - recall_8: 0.9259\n",
      "[0.08967146682634689, 0.9962406, 1.0] [0.2152061972618103, 0.956, 0.90789473] [0.19030990123748778, 0.97, 0.9259259]\n"
     ]
    }
   ],
   "source": [
    "results_train = cnn.evaluate(X_train, y_train)\n",
    "results_test = cnn.evaluate(X_test, y_test)\n",
    "results_val =  cnn.evaluate(X_val, y_val)\n",
    "\n",
    "print(results_train, results_test, results_val)"
   ]
  },
  {
   "cell_type": "markdown",
   "metadata": {},
   "source": [
    "## Model iteration 08"
   ]
  },
  {
   "cell_type": "markdown",
   "metadata": {},
   "source": [
    "This model increases the dropout layer in the hidden layers to 50%."
   ]
  },
  {
   "cell_type": "code",
   "execution_count": 72,
   "metadata": {},
   "outputs": [],
   "source": [
    "cnn = models.Sequential()\n",
    "cnn.add(layers.Conv2D(64, (3, 3),\n",
    "                      activation='relu',\n",
    "                      input_shape=X_train[0].shape,\n",
    "                      padding='SAME'))\n",
    "cnn.add(layers.MaxPooling2D((2, 2)))\n",
    "cnn.add(layers.Dropout(0.5))\n",
    "cnn.add(layers.Conv2D(32, (3, 3), activation='relu'))\n",
    "cnn.add(layers.MaxPooling2D((2, 2)))\n",
    "cnn.add(layers.Flatten())\n",
    "cnn.add(layers.Dense(32, activation='relu'))\n",
    "cnn.add(layers.Dense(16, activation='relu'))\n",
    "cnn.add(layers.Dense(1, activation='sigmoid'))\n",
    "cnn.compile(loss='binary_crossentropy',\n",
    "            optimizer=\"adam\",\n",
    "            metrics=['acc',tensorflow.keras.metrics.Recall()])"
   ]
  },
  {
   "cell_type": "code",
   "execution_count": 73,
   "metadata": {},
   "outputs": [
    {
     "name": "stdout",
     "output_type": "stream",
     "text": [
      "Model: \"sequential_11\"\n",
      "_________________________________________________________________\n",
      "Layer (type)                 Output Shape              Param #   \n",
      "=================================================================\n",
      "conv2d_20 (Conv2D)           (None, 224, 224, 64)      640       \n",
      "_________________________________________________________________\n",
      "max_pooling2d_20 (MaxPooling (None, 112, 112, 64)      0         \n",
      "_________________________________________________________________\n",
      "dropout_8 (Dropout)          (None, 112, 112, 64)      0         \n",
      "_________________________________________________________________\n",
      "conv2d_21 (Conv2D)           (None, 110, 110, 32)      18464     \n",
      "_________________________________________________________________\n",
      "max_pooling2d_21 (MaxPooling (None, 55, 55, 32)        0         \n",
      "_________________________________________________________________\n",
      "flatten_10 (Flatten)         (None, 96800)             0         \n",
      "_________________________________________________________________\n",
      "dense_29 (Dense)             (None, 32)                3097632   \n",
      "_________________________________________________________________\n",
      "dense_30 (Dense)             (None, 16)                528       \n",
      "_________________________________________________________________\n",
      "dense_31 (Dense)             (None, 1)                 17        \n",
      "=================================================================\n",
      "Total params: 3,117,281\n",
      "Trainable params: 3,117,281\n",
      "Non-trainable params: 0\n",
      "_________________________________________________________________\n"
     ]
    }
   ],
   "source": [
    "cnn.summary()"
   ]
  },
  {
   "cell_type": "code",
   "execution_count": 74,
   "metadata": {
    "colab": {},
    "colab_type": "code",
    "id": "N0TyaG2cSn82"
   },
   "outputs": [
    {
     "name": "stdout",
     "output_type": "stream",
     "text": [
      "Train on 798 samples, validate on 200 samples\n",
      "Epoch 1/50\n",
      "798/798 [==============================] - 29s 37ms/sample - loss: 0.8554 - acc: 0.6316 - recall_9: 0.1192 - val_loss: 0.6902 - val_acc: 0.7300 - val_recall_9: 0.0000e+00\n",
      "Epoch 2/50\n",
      "798/798 [==============================] - 28s 35ms/sample - loss: 0.6122 - acc: 0.6742 - recall_9: 0.0000e+00 - val_loss: 0.5524 - val_acc: 0.7300 - val_recall_9: 0.0000e+00\n",
      "Epoch 3/50\n",
      "798/798 [==============================] - 30s 37ms/sample - loss: 0.4846 - acc: 0.7556 - recall_9: 0.2615 - val_loss: 0.3770 - val_acc: 0.9150 - val_recall_9: 0.8889\n",
      "Epoch 4/50\n",
      "798/798 [==============================] - 29s 37ms/sample - loss: 0.2724 - acc: 0.8910 - recall_9: 0.7808 - val_loss: 0.1906 - val_acc: 0.9450 - val_recall_9: 0.8333\n",
      "Epoch 5/50\n",
      "798/798 [==============================] - 30s 38ms/sample - loss: 0.1787 - acc: 0.9361 - recall_9: 0.8615 - val_loss: 0.2554 - val_acc: 0.9100 - val_recall_9: 0.9444\n",
      "Epoch 6/50\n",
      "798/798 [==============================] - 31s 39ms/sample - loss: 0.1842 - acc: 0.9323 - recall_9: 0.8615 - val_loss: 0.1723 - val_acc: 0.9400 - val_recall_9: 0.9444\n",
      "Epoch 7/50\n",
      "798/798 [==============================] - 30s 38ms/sample - loss: 0.1342 - acc: 0.9499 - recall_9: 0.9154 - val_loss: 0.1599 - val_acc: 0.9400 - val_recall_9: 0.9444\n",
      "Epoch 8/50\n",
      "798/798 [==============================] - 29s 36ms/sample - loss: 0.1134 - acc: 0.9624 - recall_9: 0.9308 - val_loss: 0.1173 - val_acc: 0.9650 - val_recall_9: 0.9259\n",
      "Epoch 9/50\n",
      "798/798 [==============================] - 31s 39ms/sample - loss: 0.1186 - acc: 0.9561 - recall_9: 0.9077 - val_loss: 0.1941 - val_acc: 0.9250 - val_recall_9: 0.9444\n",
      "Epoch 10/50\n",
      "798/798 [==============================] - 28s 36ms/sample - loss: 0.1092 - acc: 0.9524 - recall_9: 0.9231 - val_loss: 0.1115 - val_acc: 0.9700 - val_recall_9: 0.9074\n",
      "Epoch 11/50\n",
      "798/798 [==============================] - 29s 36ms/sample - loss: 0.0825 - acc: 0.9699 - recall_9: 0.9385 - val_loss: 0.1047 - val_acc: 0.9800 - val_recall_9: 0.9259\n",
      "Epoch 12/50\n",
      "798/798 [==============================] - 28s 35ms/sample - loss: 0.0927 - acc: 0.9599 - recall_9: 0.9269 - val_loss: 0.1451 - val_acc: 0.9550 - val_recall_9: 0.9630\n",
      "Epoch 13/50\n",
      "798/798 [==============================] - 28s 35ms/sample - loss: 0.0926 - acc: 0.9637 - recall_9: 0.9385 - val_loss: 0.1477 - val_acc: 0.9550 - val_recall_9: 0.9630\n",
      "Epoch 14/50\n",
      "798/798 [==============================] - 29s 37ms/sample - loss: 0.0604 - acc: 0.9812 - recall_9: 0.9692 - val_loss: 0.1099 - val_acc: 0.9800 - val_recall_9: 0.9259\n",
      "Epoch 15/50\n",
      "798/798 [==============================] - 30s 37ms/sample - loss: 0.0490 - acc: 0.9825 - recall_9: 0.9654 - val_loss: 0.1088 - val_acc: 0.9700 - val_recall_9: 0.9630\n",
      "Epoch 16/50\n",
      "798/798 [==============================] - 28s 35ms/sample - loss: 0.0891 - acc: 0.9612 - recall_9: 0.9269 - val_loss: 0.1557 - val_acc: 0.9500 - val_recall_9: 0.8333\n"
     ]
    }
   ],
   "source": [
    "# Save the weights for each layer\n",
    "saving_weights = ModelCheckpoint('weights.{epoch:02d}-{val_loss:.2f}.hdf5')\n",
    "\n",
    "#\n",
    "reduce_lr = tensorflow.keras.callbacks.ReduceLROnPlateau(patience=5)\n",
    "\n",
    "#\n",
    "nan_problem = tensorflow.keras.callbacks.TerminateOnNaN()\n",
    "\n",
    "#\n",
    "early_stop = tensorflow.keras.callbacks.EarlyStopping(patience=5)\n",
    "\n",
    "#\n",
    "csv_logger = tensorflow.keras.callbacks.CSVLogger('training.log')\n",
    "\n",
    "#\n",
    "cnn_fit = cnn.fit(X_train, y_train, epochs=50, batch_size=32, validation_data=(X_val, y_val),\n",
    "               callbacks=[csv_logger, early_stop, nan_problem, reduce_lr, saving_weights])"
   ]
  },
  {
   "cell_type": "code",
   "execution_count": 75,
   "metadata": {},
   "outputs": [
    {
     "name": "stdout",
     "output_type": "stream",
     "text": [
      "INFO:tensorflow:Assets written to: models/cnn_08/assets\n"
     ]
    }
   ],
   "source": [
    "cnn.save('models/cnn_08')"
   ]
  },
  {
   "cell_type": "code",
   "execution_count": 76,
   "metadata": {
    "colab": {
     "base_uri": "https://localhost:8080/",
     "height": 295
    },
    "colab_type": "code",
    "id": "fV2LHFpZ73wy",
    "outputId": "367181cc-eb10-4382-b7ff-c8b7a5673c88"
   },
   "outputs": [
    {
     "data": {
      "image/png": "[encoded data removed]",
      "text/plain": [
       "<Figure size 1080x288 with 2 Axes>"
      ]
     },
     "metadata": {
      "needs_background": "light"
     },
     "output_type": "display_data"
    }
   ],
   "source": [
    "hist_cnn = cnn_fit.history\n",
    "loss_values = hist_cnn['loss']\n",
    "val_loss_values = hist_cnn['val_loss']\n",
    "acc_values = hist_cnn['acc']\n",
    "val_acc_values = hist_cnn['val_acc']\n",
    "recall_values = hist_cnn['recall_9']\n",
    "val_recall_values = hist_cnn['val_recall_9']\n",
    "\n",
    "\n",
    "epochs = range(1, len(loss_values) + 1)\n",
    "\n",
    "plt.figure(figsize=(15, 4))\n",
    "plt.subplot(121)\n",
    "plt.plot(epochs, loss_values, 'g', label='Training loss')\n",
    "plt.plot(epochs, val_loss_values, 'r', label='Validation loss')\n",
    "\n",
    "plt.title('Training and Validation Loss')\n",
    "plt.xlabel('Epochs')\n",
    "plt.ylabel('Loss')\n",
    "plt.legend()\n",
    "\n",
    "plt.subplot(122)\n",
    "plt.plot(epochs, recall_values, 'g', label='Training Recall')\n",
    "plt.plot(epochs, val_recall_values, 'r', label='Validation Recall')\n",
    "plt.title('Training and Validation Recall')\n",
    "plt.xlabel('Epochs')\n",
    "plt.ylabel('Recall')\n",
    "plt.legend()\n",
    "plt.show()"
   ]
  },
  {
   "cell_type": "code",
   "execution_count": 77,
   "metadata": {
    "colab": {
     "base_uri": "https://localhost:8080/",
     "height": 68
    },
    "colab_type": "code",
    "id": "JAd1W7eg73w3",
    "outputId": "e62eb046-2f6f-4307-e511-aa2d599efcbe"
   },
   "outputs": [
    {
     "name": "stdout",
     "output_type": "stream",
     "text": [
      "798/798 [==============================] - 6s 7ms/sample - loss: 0.1295 - acc: 0.9574 - recall_9: 0.8731\n",
      "250/250 [==============================] - 2s 8ms/sample - loss: 0.1983 - acc: 0.9160 - recall_9: 0.7895\n",
      "200/200 [==============================] - 1s 7ms/sample - loss: 0.1557 - acc: 0.9500 - recall_9: 0.8333\n",
      "[0.12948777681604065, 0.95739347, 0.8730769] [0.19832123136520385, 0.916, 0.7894737] [0.1557453191280365, 0.95, 0.8333333]\n"
     ]
    }
   ],
   "source": [
    "results_train = cnn.evaluate(X_train, y_train)\n",
    "results_test = cnn.evaluate(X_test, y_test)\n",
    "results_val =  cnn.evaluate(X_val, y_val)\n",
    "\n",
    "print(results_train, results_test, results_val)"
   ]
  },
  {
   "cell_type": "code",
   "execution_count": null,
   "metadata": {},
   "outputs": [],
   "source": []
  }
 ],
 "metadata": {
  "kernelspec": {
   "display_name": "tf2-1",
   "language": "python",
   "name": "tf2-1"
  },
  "language_info": {
   "codemirror_mode": {
    "name": "ipython",
    "version": 3
   },
   "file_extension": ".py",
   "mimetype": "text/x-python",
   "name": "python",
   "nbconvert_exporter": "python",
   "pygments_lexer": "ipython3",
   "version": "3.7.7"
  }
 },
 "nbformat": 4,
 "nbformat_minor": 4
}
